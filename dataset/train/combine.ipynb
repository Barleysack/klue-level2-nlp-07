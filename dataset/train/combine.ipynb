{
 "cells": [
  {
   "cell_type": "code",
   "execution_count": null,
   "source": [
    "import pandas as pd\n",
    "\n",
    "file1 = open(\"/opt/ml/klue-level2-nlp-07/dataset/train/without_aug.csv\", \"a\")\n",
    "file2 = open(\"/opt/ml/klue-level2-nlp-07/dataset/train/train_trans_whole.csv\", \"r\")\n",
    "\n",
    "for line in file2:\n",
    "   file1.write(line)\n",
    "\n",
    "file1.close()\n",
    "file2.close()"
   ],
   "outputs": [],
   "metadata": {}
  }
 ],
 "metadata": {
  "orig_nbformat": 4,
  "language_info": {
   "name": "python"
  }
 },
 "nbformat": 4,
 "nbformat_minor": 2
}