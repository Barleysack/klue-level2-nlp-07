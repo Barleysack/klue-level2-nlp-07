{
 "cells": [
  {
   "cell_type": "code",
   "execution_count": 14,
   "id": "5ec3f1f8-8be8-4c98-9d23-f3acb4e76cf7",
   "metadata": {},
   "outputs": [],
   "source": [
    "import googletrans\n",
    "import pandas as pd\n",
    "from load_data import *"
   ]
  },
  {
   "cell_type": "code",
   "execution_count": 2,
   "id": "afbe4c07-18f1-4859-bb2a-ab719732ec17",
   "metadata": {},
   "outputs": [
    {
     "name": "stdout",
     "output_type": "stream",
     "text": [
      "나는 한국인 입니다. => I'm a Korean.\n",
      "I like burger. => 나는 햄버거를 좋아합니다.\n"
     ]
    }
   ],
   "source": [
    "translator = googletrans.Translator()\n",
    "\n",
    "str1 = \"나는 한국인 입니다.\"\n",
    "str2 = \"I like burger.\"\n",
    "\n",
    "result1 = translator.translate(str1, dest='en')\n",
    "result2 = translator.translate(str2, dest='ko')\n",
    "\n",
    "print(f\"나는 한국인 입니다. => {result1.text}\")\n",
    "print(f\"I like burger. => {result2.text}\")\n",
    "\n",
    "# 출처: https://blockdmask.tistory.com/540 [개발자 지망생]"
   ]
  },
  {
   "cell_type": "code",
   "execution_count": 10,
   "id": "1231421f-7034-4230-adeb-0c8d17c8e59b",
   "metadata": {},
   "outputs": [
    {
     "data": {
      "text/plain": [
       "str"
      ]
     },
     "execution_count": 10,
     "metadata": {},
     "output_type": "execute_result"
    }
   ],
   "source": [
    "type(result1.text)"
   ]
  },
  {
   "cell_type": "code",
   "execution_count": 12,
   "id": "d67361c3-78d8-4043-867f-e6389714cd8d",
   "metadata": {},
   "outputs": [
    {
     "name": "stdout",
     "output_type": "stream",
     "text": [
      "나는 한국인이야.\n",
      "I like hamburgers.\n"
     ]
    }
   ],
   "source": [
    "re_trans1 = translator.translate(result1.text, dest='ko')\n",
    "re_trans2 = translator.translate(result2.text, dest='en')\n",
    "print(re_trans1.text)\n",
    "print(re_trans2.text)"
   ]
  },
  {
   "cell_type": "code",
   "execution_count": 24,
   "id": "f0d4acb8-116b-4ddd-b68a-824816735b96",
   "metadata": {},
   "outputs": [],
   "source": [
    "def right_augment(en1, en2, text):\n",
    "    return en1[1:-1] in text and en2[1:-1] in text\n",
    "\n",
    "\n",
    "def double_translate(en1, en2, sent):\n",
    "    \n",
    "    english = translator.translate(sent, dest='en')\n",
    "    korean = translator.translate(english.text, dest='ko')\n",
    "    if right_augment(en1, en2, korean.text):\n",
    "        return korean.text\n",
    "    \n",
    "    japanese = translator.translate(sent, dest='ja')\n",
    "    korean = translator.translate(japanese.text, dest='ko')\n",
    "    if right_augment(en1, en2, korean.text):\n",
    "        return korean.text\n",
    "    \n",
    "    chinese = translator.translate(sent, dest='zh-cn')\n",
    "    korean = translator.translate(chinese.text, dest='ko')\n",
    "    if right_augment(en1, en2, korean.text):\n",
    "        return korean.text\n",
    "    \n",
    "    return sent"
   ]
  },
  {
   "cell_type": "code",
   "execution_count": 25,
   "id": "d84b15bb-53c9-4ce1-8050-b3265617e5bd",
   "metadata": {},
   "outputs": [
    {
     "data": {
      "text/plain": [
       "32470"
      ]
     },
     "execution_count": 25,
     "metadata": {},
     "output_type": "execute_result"
    }
   ],
   "source": [
    "data = load_data('../dataset/train/train.csv')\n",
    "len(data)"
   ]
  },
  {
   "cell_type": "code",
   "execution_count": 26,
   "id": "bb81a86b-c9ad-4d9c-9dcd-9db980fd24dc",
   "metadata": {},
   "outputs": [],
   "source": [
    "from tqdm import tqdm\n",
    "\n",
    "def translate_dataframe(df):\n",
    "    \n",
    "    sentences = list(df['sentence'])\n",
    "    entities1, entities2 = list(df['subject_entity']), list(df['object_entity'])\n",
    "    original = list(map(lambda sent, ent1, ent2: (sent, ent1, ent2), sentences, entities1, entities2))\n",
    "    translations = []\n",
    "    \n",
    "    for sent, ent1, ent2 in tqdm(original, desc='Translation Ongoing...'):\n",
    "        aug_sent = double_translate(ent1, ent2, sent)\n",
    "        translations.append(aug_sent)\n",
    "    \n",
    "    output = output = pd.DataFrame({'id':df['id'],'sentence':translations,'subject_entity':entities1,'object_entity':entities2,'label':df['label'],})\n",
    "    \n",
    "    return output"
   ]
  },
  {
   "cell_type": "code",
   "execution_count": null,
   "id": "05601daa-d705-4672-83b3-e1b92db88f6a",
   "metadata": {},
   "outputs": [],
   "source": [
    "trans_df = translate_dataframe(data)"
   ]
  },
  {
   "cell_type": "code",
   "execution_count": 29,
   "id": "c97f0cb3-9fad-448e-a108-249878fda143",
   "metadata": {},
   "outputs": [
    {
     "name": "stdout",
     "output_type": "stream",
     "text": [
      "2009년 9월, 미국 프로 야구 필라델피아 필리스 소속의 야구 선수 박찬호는 《MBC 스페셜-박찬호는 당신을 잊지 않았다》 편에서 “최진실 씨의 아픔과 죽음의 고통을 이해합니다. 최진실 씨 사건에 눈물을 흘렸습니다. 저도 죽으려고 마음을 먹었던 적이 있었습니다. 잘하려고 애를 쓰는데 비난과 비판이 쏟아졌습니다. 머리가 빠지고 너무 힘들었습니다”라고 말하며 최진실의 죽음에 대해 안타까움을 표현했다.\n",
      "2009년 9월, 미국 프로 야구 필라델피아 필리스 소속의 야구 선수 박찬호는 《MBC 스페셜-박찬호는 당신을 잊지 않았다》 편에서 “최진실 씨의 아픔과 죽음의 고통을 이해합니다. 최진실 씨 사건에 눈물을 흘렸습니다. 저도 죽으려고 마음을 먹었던 적이 있었습니다. 잘하려고 애를 쓰는데 비난과 비판이 쏟아졌습니다. 머리가 빠지고 너무 힘들었습니다”라고 말하며 최진실의 죽음에 대해 안타까움을 표현했다.\n"
     ]
    }
   ],
   "source": [
    "comp = \"2009년 9월, 미국 프로 야구 필라델피아 필리스 소속의 야구 선수 박찬호는 《MBC 스페셜-박찬호는 당신을 잊지 않았다》 편에서 “최진실 씨의 아픔과 죽음의 고통을 이해합니다. 최진실 씨 사건에 눈물을 흘렸습니다. 저도 죽으려고 마음을 먹었던 적이 있었습니다. 잘하려고 애를 쓰는데 비난과 비판이 쏟아졌습니다. 머리가 빠지고 너무 힘들었습니다”라고 말하며 최진실의 죽음에 대해 안타까움을 표현했다.\"\n",
    "a1, a2 = \"'필라델피아 필리스'\", \"'박찬호'\"\n",
    "print(comp)\n",
    "print(double_translate(a1, a2, comp))"
   ]
  },
  {
   "cell_type": "code",
   "execution_count": 30,
   "id": "dac825a9-07b7-476a-ba6f-bd9765c8683d",
   "metadata": {},
   "outputs": [
    {
     "data": {
      "text/plain": [
       "'그러나 많은 커피를 마시는 행위에 문제가있는 것보다는 카페인 섭취로 인한 부작용이있는 문제가 있습니다.'"
      ]
     },
     "execution_count": 30,
     "metadata": {},
     "output_type": "execute_result"
    }
   ],
   "source": [
    "txt = \"그러나 커피를 많이 마시는 행위 자체가 문제가 있기보다는 카페인 섭취에 따른 부작용이 있는게 문제다.\"\n",
    "e1, e2 = \"'커피'\", \"'카페인'\"\n",
    "double_translate(e1, e2, txt)"
   ]
  },
  {
   "cell_type": "code",
   "execution_count": 33,
   "id": "127a5f2a-56b1-462d-b176-9189f309cbe0",
   "metadata": {},
   "outputs": [
    {
     "name": "stdout",
     "output_type": "stream",
     "text": [
      "<무언가> 조지 해리슨이 쓰는 노래는 1969 년 앨범 \"Abbey Road\"에 비틀 거리는 노래입니다.\n"
     ]
    }
   ],
   "source": [
    "IDX = 0\n",
    "sent = data['sentence'][IDX]\n",
    "english = translator.translate(sent, dest='en')\n",
    "korean = translator.translate(english.text, dest='ko')\n",
    "print(korean.text)\n",
    "\n"
   ]
  },
  {
   "cell_type": "code",
   "execution_count": 45,
   "id": "83863f62-c71d-4cd6-9eae-965f0ce06685",
   "metadata": {},
   "outputs": [],
   "source": [
    "def how_translated(IDX):\n",
    "    sent = data['sentence'][IDX]\n",
    "    print(\"한국어 : \" + sent)\n",
    "    english = translator.translate(sent, dest='en')\n",
    "    korean = translator.translate(english.text, dest='ko')\n",
    "    print(\"영어   : \" + korean.text)\n",
    "\n",
    "    japanese = translator.translate(sent, dest='ja')\n",
    "    korean = translator.translate(japanese.text, dest='ko')\n",
    "    print(\"일본어 : \" + korean.text)\n",
    "\n",
    "    chinese = translator.translate(sent, dest='zh-cn')\n",
    "    korean = translator.translate(chinese.text, dest='ko')\n",
    "    print(\"중국어 : \" + korean.text)"
   ]
  },
  {
   "cell_type": "code",
   "execution_count": 46,
   "id": "2fe48c5e-9d37-48ff-a00d-2701e5d0de92",
   "metadata": {},
   "outputs": [
    {
     "name": "stdout",
     "output_type": "stream",
     "text": [
      "한국어 : 〈Something〉는 조지 해리슨이 쓰고 비틀즈가 1969년 앨범 《Abbey Road》에 담은 노래다.\n",
      "영어   : <무언가> 조지 해리슨이 쓰는 노래는 1969 년 앨범 \"Abbey Road\"에 비틀 거리는 노래입니다.\n",
      "일본어 : <Something>는조지 해리슨이쓴비틀즈가1969년앨범\"AbbeyRoad'에 담은노래 다.\n",
      "중국어 : <무언가>는 George Harrison 글쓰기와 1969 년 앨범 \"Abbey Road\"에 대한 비틀즈의 노래입니다.\n"
     ]
    }
   ],
   "source": [
    "how_translated(0)"
   ]
  },
  {
   "cell_type": "code",
   "execution_count": 47,
   "id": "65fde903-e229-407c-ad5f-7e0b980abee9",
   "metadata": {},
   "outputs": [
    {
     "name": "stdout",
     "output_type": "stream",
     "text": [
      "한국어 : 호남이 기반인 바른미래당·대안신당·민주평화당이 우여곡절 끝에 합당해 민생당(가칭)으로 재탄생한다.\n",
      "영어   : 호남 기반, 올바른 선물, 대안 및 민주주의 평화 파티는 트위스트와 반항적 인 (촉사)의 끝에 가치가 있습니다.\n",
      "일본어 : 후난가기반이다올바른미레단·대체신당·민주뾴화단가우여곡절 끝에걸맞게민생당(가칭)으로 재 탄생한다.\n",
      "중국어 : 가정 인민, 올바른 선물, 대안 및 민주당 평화로운 파티의 가치는 트위스트와 넥타이의 끝입니다 (수량).\n"
     ]
    }
   ],
   "source": [
    "how_translated(1)"
   ]
  },
  {
   "cell_type": "code",
   "execution_count": 48,
   "id": "38687a03-54f6-41e8-b24c-af8d27fdba5a",
   "metadata": {},
   "outputs": [
    {
     "name": "stdout",
     "output_type": "stream",
     "text": [
      "한국어 : K리그2에서 성적 1위를 달리고 있는 광주FC는 지난 26일 한국프로축구연맹으로부터 관중 유치 성과와 마케팅 성과를 인정받아 ‘풀 스타디움상’과 ‘플러스 스타디움상’을 수상했다.\n",
      "영어   : K League 2의 첫 번째 장소에서 최초로 선정 된 광주 FC는 \"완전한 경기장\"과 '플러스 스타디움 상'에서 26 일 한국 전문 연맹에서 군중의 성과 및 마케팅 성과를 인정했습니다.\n",
      "일본어 : K 리그2에서성적1위를 달리고있는광주 FC는26일 한국프로 축구 연맹에서관객유치의성과와마케팅의성과를인정 받아'풀스타디움상'과 '플러스스타디움상'을수상했다.\n",
      "중국어 : 첫 번째 k 리그 2 인 첫 번째 K 리그 2는 한국 전문 연맹 인구의 성과 및 마케팅 성과를 인정하여 \"환자\"및 \"플러스 경기장 상\"을 수상했습니다.\n"
     ]
    }
   ],
   "source": [
    "how_translated(2)"
   ]
  },
  {
   "cell_type": "code",
   "execution_count": 49,
   "id": "d8f4e837-8d29-4f42-98fa-ac2bfb2fea8b",
   "metadata": {},
   "outputs": [
    {
     "name": "stdout",
     "output_type": "stream",
     "text": [
      "한국어 : 《가면라이더 W》에서 가면라이더 스컬로 변신하는 나루미 소우키치([[킷카와 코지]]가 연기)는 [[가면라이더 W의 등장 인물 아키코|나루미 아키코]]의 아버지로, 후토에 나루미 탐정 사무소를 연 인물이며, 나루미 탐정 사무소에서 [[가면라이더 더블 (캐릭터) 쇼타로|히다리 쇼타로]]를 제자로 삼아 그를 가르치고 있었다.\n",
      "영어   : Narumi Soukić ([[kikka koji]] ([[kikka koji]] ([kikka koji]] ([kikka and koji]] ([마스크 라이더 (W) \"에서 변형, [마스크 라이더 (W), 인형, 그리고 나루미 형사에서사무실, 그는 [마스크 라이더 더블 (캐릭터) Shotaro | Hidari Shotaro]에 대한 제자를 가르쳐 줬습니다.]\n",
      "일본어 : 「가면 라이더 W」로가면 라이더스컬로 변신하는나루미소우킷츄([[킷 카와 코지]]에 의해 연주)는[[가면 라이더 W의등장 인물아키코|나루미아키코]]의아버지이며,소프트나루미탐정사무소를연인물이며,나루미탐정 사무소에서[가면 라이더더블(캐릭터)쇼타로|왼쪽쇼타로]]을제자로그를가르치고 있었다.\n",
      "중국어 : Narumisoukić ([kikka koji]] ([kikka & koji]] ([kikka and koji]] ([kikka and koji]] ([kikka and koji]], 그것은 \"마스크 라이더 W\"에서 변환, [마스킹 라이더 W, 작은 동상이며, Naruimi 탐정 사무소, 그는 제자를 가르치기 위해 제자를 사용하여 [라이더 더블 (역할) Shotaro | Hidari Shotaro]].\n"
     ]
    }
   ],
   "source": [
    "how_translated(1996)"
   ]
  },
  {
   "cell_type": "code",
   "execution_count": 52,
   "id": "2b8753a7-1697-4081-a0a6-26e003ee5989",
   "metadata": {},
   "outputs": [
    {
     "data": {
      "text/plain": [
       "['Narumi Soukichi ([Kitkawa Koji] acting as a masked rider sculler in \"Kamen Rider W\") is the father of [[Kamen Rider W\\'s character AkikoNarumi Akiko]], who opened the Futoe Narumi detective office, and [[Kamen Rider Double (character) Shota He was teaching him with his pupil, Rodari Shotaro.']"
      ]
     },
     "execution_count": 52,
     "metadata": {},
     "output_type": "execute_result"
    }
   ],
   "source": [
    "from kakaotrans import Translator\n",
    "translator = Translator()\n",
    "\n",
    "material_list = ['《가면라이더 W》에서 가면라이더 스컬로 변신하는 나루미 소우키치([[킷카와 코지]]가 연기)는 [[가면라이더 W의 등장 인물 아키코|나루미 아키코]]의 아버지로, 후토에 나루미 탐정 사무소를 연 인물이며, 나루미 탐정 사무소에서 [[가면라이더 더블 (캐릭터) 쇼타로|히다리 쇼타로]]를 제자로 삼아 그를 가르치고 있었다.']\n",
    "material_result_list = []\n",
    "for i in range(len(material_list)) :\n",
    "   material_result_list.append(translator.translate(material_list[i], src='kr', tgt='en'))\n",
    "\n",
    "material_result_list"
   ]
  },
  {
   "cell_type": "code",
   "execution_count": null,
   "id": "c785cf26-8bc3-40fa-9e14-1fd00556b79a",
   "metadata": {},
   "outputs": [],
   "source": [
    "from tqdm import tqdm\n",
    "sent_list = list(data['sentence'])\n",
    "en_list = []\n",
    "for i in tqdm(range(len(sent_list))):\n",
    "   en_list.append(translator.translate(sent_list[i], src='kr', tgt='en'))\n",
    "\n",
    "len(en_list), en_list[100]"
   ]
  },
  {
   "cell_type": "code",
   "execution_count": 56,
   "id": "117ccf0f-8b36-45e6-acfe-56924a11eb77",
   "metadata": {},
   "outputs": [],
   "source": [
    "from tqdm import tqdm\n",
    "from load_data import *\n",
    "\n",
    "train_split = load_data('../dataset/train/train85.csv')\n",
    "sent_list = list(train_split['sentence'])\n",
    "sub_list = [ent[1:-1] for ent in list(train_split['subject_entity'])]\n",
    "ob_list = [ent[1:-1] for ent in list(train_split['object_entity'])]"
   ]
  },
  {
   "cell_type": "code",
   "execution_count": 57,
   "id": "d65c4c3e-9b6e-4c08-8fe3-b6803e428e02",
   "metadata": {},
   "outputs": [
    {
     "data": {
      "text/plain": [
       "(27599, 27599, 27599)"
      ]
     },
     "execution_count": 57,
     "metadata": {},
     "output_type": "execute_result"
    }
   ],
   "source": [
    "len(sent_list), len(sub_list), len(ob_list)"
   ]
  },
  {
   "cell_type": "code",
   "execution_count": 58,
   "id": "bf59883d-7f57-4123-8134-1a6eb62a0e76",
   "metadata": {},
   "outputs": [
    {
     "data": {
      "text/plain": [
       "('서울 지하철 5호선(서울 地下鐵 5號線)은 서울특별시 강서구에 있는 방화역과 서울특별시 강동구에 있는 상일동역과 서울특별시 송파구에 있는 마천역을 잇는 서울교통공사의 도시 철도 노선이다.',\n",
       " '서울교통공사',\n",
       " '서울특별시')"
      ]
     },
     "execution_count": 58,
     "metadata": {},
     "output_type": "execute_result"
    }
   ],
   "source": [
    "IDX = 123\n",
    "sent_list[IDX], sub_list[IDX], ob_list[IDX]"
   ]
  },
  {
   "cell_type": "code",
   "execution_count": 84,
   "id": "2027cc42-dae9-400e-81e7-54b06295a29a",
   "metadata": {},
   "outputs": [],
   "source": [
    "translator = googletrans.Translator()"
   ]
  },
  {
   "cell_type": "code",
   "execution_count": 93,
   "id": "86400361-1ac4-43ea-9feb-6cc4d415aa71",
   "metadata": {},
   "outputs": [
    {
     "data": {
      "text/plain": [
       "'Seoul Subway Line (5), the Line, Line, Seoul, Seoul, is a city railway route of Seoul Traffic Bureau, which is in the Seoul Metropolitan Government, Seoul, Seoul, Seoul, Korea.'"
      ]
     },
     "execution_count": 93,
     "metadata": {},
     "output_type": "execute_result"
    }
   ],
   "source": [
    "txt = \"서울 지하철 5호선(서울 地下鐵 5號線)은 서울특별시 강서구에 있는 방화역과 서울특별시 강동구에 있는 상일동역과 서울특별시 송파구에 있는 마천역을 잇는 서울교통공사의 도시 철도 노선이다.\"\n",
    "translator.translate(txt, src='ko', dest='en').text"
   ]
  },
  {
   "cell_type": "code",
   "execution_count": 94,
   "id": "647fe386-f5be-4fc3-abcb-28c784982f1a",
   "metadata": {},
   "outputs": [],
   "source": [
    "def ko_to_en(sent_list, sub_list, ob_list):\n",
    "    en_sent = []\n",
    "    en_sub = []\n",
    "    en_ob = []\n",
    "    for i in range(len(sent_list)):\n",
    "        en_sent.append(translator.translate(sent_list[i], src='ko', dest='en').text)\n",
    "        en_sub.append(translator.translate(sub_list[i], src='ko', dest='en').text)\n",
    "        en_ob.append(translator.translate(ob_list[i], src='ko', dest='en').text)\n",
    "    return en_sent, en_sub, en_ob"
   ]
  },
  {
   "cell_type": "code",
   "execution_count": 95,
   "id": "0d86f836-ddfa-429b-8594-37f1df2b2da8",
   "metadata": {},
   "outputs": [],
   "source": [
    "def en_to_ko(sent_list, sub_list, ob_list):\n",
    "    ko_sent = []\n",
    "    ko_sub = []\n",
    "    ko_ob = []\n",
    "    for i in range(len(sent_list)):\n",
    "        ko_sent.append(translator.translate(sent_list[i], src='en', dest='ko').text)\n",
    "        ko_sub.append(translator.translate(sub_list[i], src='en', dest='ko').text)\n",
    "        ko_ob.append(translator.translate(ob_list[i], src='en', dest='ko').text)\n",
    "    return ko_sent, ko_sub, ko_ob"
   ]
  },
  {
   "cell_type": "code",
   "execution_count": 96,
   "id": "6fa824fe-96c3-4d07-b734-315dba6f817b",
   "metadata": {
    "tags": []
   },
   "outputs": [],
   "source": [
    "def n_split_translate(df, n):\n",
    "    sentences = list(df['sentence'])\n",
    "    entities1 = [ent[1:-1] for ent in list(df['subject_entity'])]\n",
    "    entities2 = [ent[1:-1] for ent in list(df['object_entity'])]\n",
    "    original = list(map(lambda sent, ent1, ent2: (sent, ent1, ent2), sentences, entities1, entities2))\n",
    "    num_iter = len(df)//n\n",
    "    new_sent = []\n",
    "    new_sub = []\n",
    "    new_ob = []\n",
    "    for i in tqdm(range(num_iter+1)):\n",
    "        try:\n",
    "            cur_sent = sentences[i*n:(i+1)*n]\n",
    "            cur_sub, cur_ob = entities1[i*n:(i+1)*n], entities2[i*n:(i+1)*n]\n",
    "        except:\n",
    "            cur_sent = sentences[i*n:]\n",
    "            cur_sub, cur_ob = entities1[i*n:], entities2[i*n:]\n",
    "        en_sentences, en_subject, en_object = ko_to_en(cur_sent, cur_sub, cur_ob)\n",
    "        ko_sentences, ko_subject, ko_object = en_to_ko(en_sentences, en_subject, en_object)\n",
    "        new_sent.extend(ko_sentences)\n",
    "        new_sub.extend(ko_subject)\n",
    "        new_ob.extend(ko_object)\n",
    "    output = pd.DataFrame({'id':df['id'],'sentence':new_sent,'subject_entity':new_sub,'object_entity':new_ob,'label':df['label'],})\n",
    "    return output"
   ]
  },
  {
   "cell_type": "code",
   "execution_count": null,
   "id": "3b0c8f69-b67c-44ab-ac80-cb4bc06f200b",
   "metadata": {},
   "outputs": [],
   "source": [
    "new_train_split = n_split_translate(train_split, 5)"
   ]
  },
  {
   "cell_type": "code",
   "execution_count": 101,
   "id": "d10a0b94-940c-49f1-9a0d-5ec5648846e4",
   "metadata": {},
   "outputs": [
    {
     "data": {
      "text/plain": [
       "True"
      ]
     },
     "execution_count": 101,
     "metadata": {},
     "output_type": "execute_result"
    }
   ],
   "source": [
    "1e-5 == 0.00001"
   ]
  },
  {
   "cell_type": "code",
   "execution_count": null,
   "id": "54e02195-274f-4c55-978d-a66ef330441f",
   "metadata": {},
   "outputs": [],
   "source": []
  }
 ],
 "metadata": {
  "kernelspec": {
   "display_name": "Python 3 (ipykernel)",
   "language": "python",
   "name": "python3"
  },
  "language_info": {
   "codemirror_mode": {
    "name": "ipython",
    "version": 3
   },
   "file_extension": ".py",
   "mimetype": "text/x-python",
   "name": "python",
   "nbconvert_exporter": "python",
   "pygments_lexer": "ipython3",
   "version": "3.8.5"
  }
 },
 "nbformat": 4,
 "nbformat_minor": 5
}
