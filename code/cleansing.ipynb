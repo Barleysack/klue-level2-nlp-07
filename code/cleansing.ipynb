{
 "cells": [
  {
   "cell_type": "code",
   "execution_count": 1,
   "id": "d3942a9a-bde6-43b2-9d4b-6ea398e8f0f1",
   "metadata": {},
   "outputs": [],
   "source": [
    "import pandas as pd"
   ]
  },
  {
   "cell_type": "code",
   "execution_count": 2,
   "id": "76d0c8ca-0a2e-4505-a631-bd33f5876fcd",
   "metadata": {},
   "outputs": [],
   "source": [
    "trans = pd.read_csv('../dataset/train/train_trans.csv')"
   ]
  },
  {
   "cell_type": "code",
   "execution_count": 3,
   "id": "cf6d65e7-5fde-4836-a70e-ce877c52911b",
   "metadata": {},
   "outputs": [
    {
     "data": {
      "text/html": [
       "<div>\n",
       "<style scoped>\n",
       "    .dataframe tbody tr th:only-of-type {\n",
       "        vertical-align: middle;\n",
       "    }\n",
       "\n",
       "    .dataframe tbody tr th {\n",
       "        vertical-align: top;\n",
       "    }\n",
       "\n",
       "    .dataframe thead th {\n",
       "        text-align: right;\n",
       "    }\n",
       "</style>\n",
       "<table border=\"1\" class=\"dataframe\">\n",
       "  <thead>\n",
       "    <tr style=\"text-align: right;\">\n",
       "      <th></th>\n",
       "      <th>id</th>\n",
       "      <th>sentence</th>\n",
       "      <th>subject_entity</th>\n",
       "      <th>object_entity</th>\n",
       "      <th>label</th>\n",
       "    </tr>\n",
       "  </thead>\n",
       "  <tbody>\n",
       "    <tr>\n",
       "      <th>0</th>\n",
       "      <td>0</td>\n",
       "      <td>\"Something\"은 조지 해리슨이 작곡하고 비틀즈가 1969년 앨범 Abbey ...</td>\n",
       "      <td>'비틀즈'</td>\n",
       "      <td>'조지 해리슨'</td>\n",
       "      <td>no_relation</td>\n",
       "    </tr>\n",
       "    <tr>\n",
       "      <th>1</th>\n",
       "      <td>1</td>\n",
       "      <td>우여곡절 끝에 바른미래당, 대안신당, 민주평화당은 호남을 기점으로 민생당(가칭)으로...</td>\n",
       "      <td>'민주평화당'</td>\n",
       "      <td>'대안신당'</td>\n",
       "      <td>no_relation</td>\n",
       "    </tr>\n",
       "    <tr>\n",
       "      <th>2</th>\n",
       "      <td>2</td>\n",
       "      <td>K리그2에서 1위를 달리고 있는 광주FC는 지난 26일 대한프로축구연맹(KFA)으로...</td>\n",
       "      <td>'광주FC'</td>\n",
       "      <td>'한국프로축구연맹'</td>\n",
       "      <td>org:member_of</td>\n",
       "    </tr>\n",
       "    <tr>\n",
       "      <th>3</th>\n",
       "      <td>3</td>\n",
       "      <td>10일 균일가격 생활용품 전문점 아성다이소는 코로나19 바이러스로 어려움을 겪고 있...</td>\n",
       "      <td>'아성다이소'</td>\n",
       "      <td>'박정부'</td>\n",
       "      <td>org:top_members/employees</td>\n",
       "    </tr>\n",
       "    <tr>\n",
       "      <th>4</th>\n",
       "      <td>4</td>\n",
       "      <td>그는 1967년 프로야구 드래프트에서 1순위로 요미우리 자이언츠에 지명되었을 때 등...</td>\n",
       "      <td>'요미우리 자이언츠'</td>\n",
       "      <td>'1967'</td>\n",
       "      <td>no_relation</td>\n",
       "    </tr>\n",
       "  </tbody>\n",
       "</table>\n",
       "</div>"
      ],
      "text/plain": [
       "   id                                           sentence subject_entity  \\\n",
       "0   0  \"Something\"은 조지 해리슨이 작곡하고 비틀즈가 1969년 앨범 Abbey ...          '비틀즈'   \n",
       "1   1  우여곡절 끝에 바른미래당, 대안신당, 민주평화당은 호남을 기점으로 민생당(가칭)으로...        '민주평화당'   \n",
       "2   2  K리그2에서 1위를 달리고 있는 광주FC는 지난 26일 대한프로축구연맹(KFA)으로...         '광주FC'   \n",
       "3   3  10일 균일가격 생활용품 전문점 아성다이소는 코로나19 바이러스로 어려움을 겪고 있...        '아성다이소'   \n",
       "4   4  그는 1967년 프로야구 드래프트에서 1순위로 요미우리 자이언츠에 지명되었을 때 등...    '요미우리 자이언츠'   \n",
       "\n",
       "  object_entity                      label  \n",
       "0      '조지 해리슨'                no_relation  \n",
       "1        '대안신당'                no_relation  \n",
       "2    '한국프로축구연맹'              org:member_of  \n",
       "3         '박정부'  org:top_members/employees  \n",
       "4        '1967'                no_relation  "
      ]
     },
     "execution_count": 3,
     "metadata": {},
     "output_type": "execute_result"
    }
   ],
   "source": [
    "trans.head()"
   ]
  },
  {
   "cell_type": "code",
   "execution_count": 5,
   "id": "f250e1b3-dd0d-4674-96a2-4f4b54d97770",
   "metadata": {},
   "outputs": [],
   "source": [
    "id_list = list(trans['id'])\n",
    "sent_list = list(trans['sentence'])\n",
    "sub_list = list(trans['subject_entity'])\n",
    "ob_list = list(trans['object_entity'])\n",
    "label_list = list(trans['label'])"
   ]
  },
  {
   "cell_type": "markdown",
   "id": "bb17b3f3-4424-4d18-80d1-b7fec547b322",
   "metadata": {},
   "source": [
    "### 라벨 별로 entity와 sentence가 매칭하지 않는 문장 개수"
   ]
  },
  {
   "cell_type": "code",
   "execution_count": 7,
   "id": "12aa1a5b-72ca-4eaa-96a8-c99dc138da36",
   "metadata": {},
   "outputs": [
    {
     "name": "stdout",
     "output_type": "stream",
     "text": [
      "13825\n"
     ]
    },
    {
     "data": {
      "text/plain": [
       "Counter({'org:member_of': 951,\n",
       "         'org:top_members/employees': 1175,\n",
       "         'org:alternate_names': 832,\n",
       "         'no_relation': 4236,\n",
       "         'per:origin': 620,\n",
       "         'per:employee_of': 1450,\n",
       "         'per:alternate_names': 500,\n",
       "         'per:title': 958,\n",
       "         'per:spouse': 229,\n",
       "         'org:founded_by': 70,\n",
       "         'per:date_of_birth': 255,\n",
       "         'org:members': 174,\n",
       "         'org:political/religious_affiliation': 44,\n",
       "         'org:number_of_employees/members': 26,\n",
       "         'org:founded': 202,\n",
       "         'per:place_of_birth': 97,\n",
       "         'org:place_of_headquarters': 611,\n",
       "         'per:religion': 50,\n",
       "         'per:date_of_death': 165,\n",
       "         'per:colleagues': 164,\n",
       "         'per:place_of_residence': 90,\n",
       "         'org:product': 181,\n",
       "         'org:dissolved': 33,\n",
       "         'per:siblings': 68,\n",
       "         'per:children': 127,\n",
       "         'per:parents': 274,\n",
       "         'per:schools_attended': 35,\n",
       "         'per:other_family': 94,\n",
       "         'per:product': 99,\n",
       "         'per:place_of_death': 15})"
      ]
     },
     "execution_count": 7,
     "metadata": {},
     "output_type": "execute_result"
    }
   ],
   "source": [
    "from collections import Counter\n",
    "\n",
    "cnt = 0\n",
    "invalid_labels = []\n",
    "for i in range(len(id_list)):\n",
    "    if sub_list[i][1:-1] not in sent_list[i] or ob_list[i][1:-1] not in sent_list[i]:\n",
    "        cnt += 1\n",
    "        invalid_labels.append(label_list[i])\n",
    "\n",
    "print(cnt)\n",
    "counter = Counter(invalid_labels)\n",
    "counter"
   ]
  },
  {
   "cell_type": "code",
   "execution_count": 8,
   "id": "4b7f02d8-7aa5-4bf9-aab6-948a37be2d7b",
   "metadata": {},
   "outputs": [
    {
     "data": {
      "text/plain": [
       "Counter({'no_relation': 9534,\n",
       "         'org:member_of': 1866,\n",
       "         'org:top_members/employees': 4284,\n",
       "         'org:alternate_names': 1320,\n",
       "         'per:date_of_birth': 1130,\n",
       "         'org:place_of_headquarters': 1195,\n",
       "         'per:employee_of': 3573,\n",
       "         'per:origin': 1234,\n",
       "         'per:title': 2103,\n",
       "         'org:members': 420,\n",
       "         'per:schools_attended': 82,\n",
       "         'per:colleagues': 534,\n",
       "         'per:alternate_names': 1001,\n",
       "         'per:spouse': 795,\n",
       "         'org:founded_by': 155,\n",
       "         'org:political/religious_affiliation': 98,\n",
       "         'per:children': 304,\n",
       "         'org:founded': 450,\n",
       "         'org:number_of_employees/members': 48,\n",
       "         'per:place_of_birth': 166,\n",
       "         'org:dissolved': 66,\n",
       "         'per:parents': 520,\n",
       "         'per:religion': 96,\n",
       "         'per:date_of_death': 418,\n",
       "         'per:place_of_residence': 193,\n",
       "         'per:other_family': 190,\n",
       "         'org:product': 380,\n",
       "         'per:siblings': 136,\n",
       "         'per:product': 139,\n",
       "         'per:place_of_death': 40})"
      ]
     },
     "execution_count": 8,
     "metadata": {},
     "output_type": "execute_result"
    }
   ],
   "source": [
    "# 전체 라벨 개수\n",
    "total_counter = Counter(label_list)\n",
    "total_counter"
   ]
  },
  {
   "cell_type": "code",
   "execution_count": 9,
   "id": "9afecf6d-8d3e-4eb4-8dba-91d328518a14",
   "metadata": {},
   "outputs": [
    {
     "data": {
      "text/plain": [
       "defaultdict(None,\n",
       "            {'no_relation': 0.44430459408432976,\n",
       "             'org:member_of': 0.5096463022508039,\n",
       "             'org:top_members/employees': 0.2742763772175537,\n",
       "             'org:alternate_names': 0.6303030303030303,\n",
       "             'per:date_of_birth': 0.22566371681415928,\n",
       "             'org:place_of_headquarters': 0.5112970711297071,\n",
       "             'per:employee_of': 0.4058214385670305,\n",
       "             'per:origin': 0.5024311183144247,\n",
       "             'per:title': 0.4555397051830718,\n",
       "             'org:members': 0.4142857142857143,\n",
       "             'per:schools_attended': 0.4268292682926829,\n",
       "             'per:colleagues': 0.30711610486891383,\n",
       "             'per:alternate_names': 0.4995004995004995,\n",
       "             'per:spouse': 0.2880503144654088,\n",
       "             'org:founded_by': 0.45161290322580644,\n",
       "             'org:political/religious_affiliation': 0.4489795918367347,\n",
       "             'per:children': 0.41776315789473684,\n",
       "             'org:founded': 0.4488888888888889,\n",
       "             'org:number_of_employees/members': 0.5416666666666666,\n",
       "             'per:place_of_birth': 0.5843373493975904,\n",
       "             'org:dissolved': 0.5,\n",
       "             'per:parents': 0.5269230769230769,\n",
       "             'per:religion': 0.5208333333333334,\n",
       "             'per:date_of_death': 0.39473684210526316,\n",
       "             'per:place_of_residence': 0.46632124352331605,\n",
       "             'per:other_family': 0.49473684210526314,\n",
       "             'org:product': 0.4763157894736842,\n",
       "             'per:siblings': 0.5,\n",
       "             'per:product': 0.7122302158273381,\n",
       "             'per:place_of_death': 0.375})"
      ]
     },
     "execution_count": 9,
     "metadata": {},
     "output_type": "execute_result"
    }
   ],
   "source": [
    "from collections import defaultdict\n",
    "\n",
    "ratio_counter = defaultdict()\n",
    "for label in total_counter.keys():\n",
    "    ratio_counter[label] = counter[label]/total_counter[label]\n",
    "ratio_counter"
   ]
  },
  {
   "cell_type": "code",
   "execution_count": 12,
   "id": "410b1aa2-baee-477a-a76a-c0f08bd4568e",
   "metadata": {},
   "outputs": [
    {
     "data": {
      "text/plain": [
       "['per:schools_attended',\n",
       " 'org:founded_by',\n",
       " 'org:political/religious_affiliation',\n",
       " 'org:number_of_employees/members',\n",
       " 'per:place_of_birth',\n",
       " 'org:dissolved',\n",
       " 'per:religion',\n",
       " 'per:place_of_residence',\n",
       " 'per:other_family',\n",
       " 'per:siblings',\n",
       " 'per:product']"
      ]
     },
     "execution_count": 12,
     "metadata": {},
     "output_type": "execute_result"
    }
   ],
   "source": [
    "cleanse = [label for label in total_counter.keys() if total_counter[label]<200 and ratio_counter[label]>0.4]\n",
    "cleanse"
   ]
  },
  {
   "cell_type": "code",
   "execution_count": 14,
   "id": "4d0d52b0-6340-4b01-8fc9-d3febbccad7b",
   "metadata": {},
   "outputs": [
    {
     "name": "stdout",
     "output_type": "stream",
     "text": [
      "per:schools_attended\n",
      "Wrong :  35\n",
      "Right :  47\n",
      "Total :  82\n",
      "org:founded_by\n",
      "Wrong :  70\n",
      "Right :  85\n",
      "Total :  155\n",
      "org:political/religious_affiliation\n",
      "Wrong :  44\n",
      "Right :  54\n",
      "Total :  98\n",
      "org:number_of_employees/members\n",
      "Wrong :  26\n",
      "Right :  22\n",
      "Total :  48\n",
      "per:place_of_birth\n",
      "Wrong :  97\n",
      "Right :  69\n",
      "Total :  166\n",
      "org:dissolved\n",
      "Wrong :  33\n",
      "Right :  33\n",
      "Total :  66\n",
      "per:religion\n",
      "Wrong :  50\n",
      "Right :  46\n",
      "Total :  96\n",
      "per:place_of_residence\n",
      "Wrong :  90\n",
      "Right :  103\n",
      "Total :  193\n",
      "per:other_family\n",
      "Wrong :  94\n",
      "Right :  96\n",
      "Total :  190\n",
      "per:siblings\n",
      "Wrong :  68\n",
      "Right :  68\n",
      "Total :  136\n",
      "per:product\n",
      "Wrong :  99\n",
      "Right :  40\n",
      "Total :  139\n"
     ]
    }
   ],
   "source": [
    "for label in cleanse:\n",
    "    print(label)\n",
    "    print(\"Wrong : \", counter[label])\n",
    "    print(\"Right : \", total_counter[label]-counter[label])\n",
    "    print(\"Total : \", total_counter[label])"
   ]
  },
  {
   "cell_type": "code",
   "execution_count": 25,
   "id": "63bb5b26-ff96-455e-8fcd-c40212b16b03",
   "metadata": {},
   "outputs": [],
   "source": [
    "def check_label(label_name):\n",
    "    print(label_name)\n",
    "    for i in range(len(id_list)):\n",
    "        if label_list[i] == label_name:\n",
    "            if sub_list[i][1:-1] not in sent_list[i] or ob_list[i][1:-1] not in sent_list[i]:\n",
    "                print(i, sub_list[i], ob_list[i])\n",
    "                print(sent_list[i])\n",
    "                print(\"-\"*100)\n",
    "            \n",
    "def mod_ids(label_name):\n",
    "    ids = []\n",
    "    for i in range(len(id_list)):\n",
    "        if label_list[i] == label_name:\n",
    "            if sub_list[i][1:-1] not in sent_list[i] or ob_list[i][1:-1] not in sent_list[i]:\n",
    "                ids.append(i)\n",
    "    return ids"
   ]
  },
  {
   "cell_type": "code",
   "execution_count": null,
   "id": "68d5c62a-dc75-4cd0-8f84-680f2d1dfa1c",
   "metadata": {},
   "outputs": [],
   "source": [
    "mod = mod_ids('per:product')\n",
    "check_label('per:product')"
   ]
  },
  {
   "cell_type": "code",
   "execution_count": 64,
   "id": "627e8d9a-1d58-49f5-bc41-d951e5e59989",
   "metadata": {},
   "outputs": [
    {
     "data": {
      "text/plain": [
       "'per:product'"
      ]
     },
     "execution_count": 64,
     "metadata": {},
     "output_type": "execute_result"
    }
   ],
   "source": [
    "idx = 22841   \n",
    "sent_list[idx] = sub_list[idx].replace(\"가시살\", \"가시고기\")\n",
    "# sub_list[idx] = sub_list[idx].replace('아르툠 미코얀', '요한 바이엘')\n",
    "# ob_list[idx] = ob_list[idx].replace(\"우라노메트리아\", 'Uranometria')\n",
    "label_list[idx]"
   ]
  },
  {
   "cell_type": "code",
   "execution_count": 65,
   "id": "4ef89d71-f532-41a9-8589-263420e4b936",
   "metadata": {},
   "outputs": [],
   "source": [
    "import re\n",
    "trans['sentence'] = sent_list\n",
    "trans['subject_entity'] = sub_list\n",
    "trans['object_entity'] = ob_list\n",
    "trans['label'] = label_list\n",
    "trans['sentence'] = trans['sentence'].apply(lambda x: re.sub(r'(\\d+),(\\d+)', r'\\1\\2', x))"
   ]
  },
  {
   "cell_type": "code",
   "execution_count": 66,
   "id": "9a43fa15-4b9a-4c9b-a06b-4b64cdcb99f6",
   "metadata": {},
   "outputs": [],
   "source": [
    "trans.to_csv('../dataset/train/train_trans.csv', index=False)"
   ]
  },
  {
   "cell_type": "code",
   "execution_count": null,
   "id": "f2eab96d-ddbb-4c9e-95c2-3642c8b712a6",
   "metadata": {},
   "outputs": [],
   "source": []
  }
 ],
 "metadata": {
  "kernelspec": {
   "display_name": "Python 3 (ipykernel)",
   "language": "python",
   "name": "python3"
  },
  "language_info": {
   "codemirror_mode": {
    "name": "ipython",
    "version": 3
   },
   "file_extension": ".py",
   "mimetype": "text/x-python",
   "name": "python",
   "nbconvert_exporter": "python",
   "pygments_lexer": "ipython3",
   "version": "3.8.5"
  }
 },
 "nbformat": 4,
 "nbformat_minor": 5
}
