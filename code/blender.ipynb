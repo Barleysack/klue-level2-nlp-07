{
 "cells": [
  {
   "cell_type": "code",
   "execution_count": 2,
   "source": [
    "import pandas as pd\n",
    "\n",
    "first_sub = pd.read_csv(\"./output1.csv\")\n",
    "second_sub = pd.read_csv(\"./output2.csv\")"
   ],
   "outputs": [],
   "metadata": {}
  },
  {
   "cell_type": "code",
   "execution_count": 4,
   "source": [
    "first_sub_probs = pd.DataFrame(first_sub['probs'])\n",
    "second_sub_probs = pd.DataFrame(second_sub['probs'])\n"
   ],
   "outputs": [
    {
     "output_type": "execute_result",
     "data": {
      "text/plain": [
       "'[0.0180546585470438, 0.0009900106815621257, 0.012196115218102932, 0.959063708782196, 0.00022800675651524216, 0.0015056142583489418, 0.0003502472536638379, 0.00012793253699783236, 0.0015372004127129912, 0.0005682624178007245, 0.00032124441349878907, 0.00012238029739819467, 0.00016888529353309423, 0.000264954986050725, 0.0002659569727256894, 0.00018738485232461244, 0.0002231774415122345, 0.0003164365189149976, 0.00032360173645429313, 0.0006201692158356309, 0.0004015775048173964, 0.0001953856844920665, 0.00025430996902287006, 0.0002767900296021253, 0.00024016216048039496, 0.00017051563190761954, 8.729983528610319e-05, 0.00016486863023601472, 0.0005309788975864649, 0.00024226376262959093]'"
      ]
     },
     "metadata": {},
     "execution_count": 4
    }
   ],
   "metadata": {}
  },
  {
   "cell_type": "code",
   "execution_count": 6,
   "source": [
    "removed_first= first_sub_probs['probs'].apply(lambda x : x.replace('[','').replace(']',''))\n",
    "removed_second= second_sub_probs['probs'].apply(lambda x : x.replace('[','').replace(']',''))\n",
    "removed_first"
   ],
   "outputs": [
    {
     "output_type": "execute_result",
     "data": {
      "text/plain": [
       "0       0.0180546585470438, 0.0009900106815621257, 0.0...\n",
       "1       0.019475307315587997, 0.000711614266037941, 0....\n",
       "2       0.998879611492157, 3.706231291289441e-05, 2.71...\n",
       "3       0.967570424079895, 0.00017419122741557658, 0.0...\n",
       "4       0.7605699300765991, 0.23076406121253967, 0.000...\n",
       "                              ...                        \n",
       "7760    0.012181993573904037, 0.0002404934639343992, 0...\n",
       "7761    0.9941835999488831, 0.0014554614899680018, 0.0...\n",
       "7762    7.893890142440796e-05, 0.9991487264633179, 2.1...\n",
       "7763    0.9738650918006897, 0.00017849467985797673, 0....\n",
       "7764    0.997802197933197, 0.00017589768685866147, 4.0...\n",
       "Name: probs, Length: 7765, dtype: object"
      ]
     },
     "metadata": {},
     "execution_count": 6
    }
   ],
   "metadata": {}
  },
  {
   "cell_type": "code",
   "execution_count": 9,
   "source": [
    "first_sub_probs['probs'] = removed_first\n",
    "second_sub_probs['probs'] = removed_second"
   ],
   "outputs": [],
   "metadata": {}
  },
  {
   "cell_type": "code",
   "execution_count": 10,
   "source": [
    "probability = []\n",
    "for index in range(len(first_sub_probs['probs'])):\n",
    "    probability = first_sub_probs['probs'][index].split(',')\n",
    "    floated = [float(i) for i in probability]\n",
    "    first_sub_probs['probs'][index] = floated\n",
    "probability = []\n",
    "for index in range(len(second_sub_probs['probs'])):\n",
    "    probability = second_sub_probs['probs'][index].split(',')\n",
    "    floated = [float(i) for i in probability]\n",
    "    second_sub_probs['probs'][index] = floated\n",
    "\n"
   ],
   "outputs": [],
   "metadata": {}
  },
  {
   "cell_type": "code",
   "execution_count": 20,
   "source": [
    "first_sub_probs=pd.DataFrame(first_sub_probs)\n",
    "second_sub_probs = pd.DataFrame(second_sub_probs)"
   ],
   "outputs": [],
   "metadata": {}
  },
  {
   "cell_type": "code",
   "execution_count": 23,
   "source": [
    "added_sub_probs = first_sub_probs+second_sub_probs\n",
    "first_sub_probs['probs'] += second_sub_probs['probs']"
   ],
   "outputs": [],
   "metadata": {}
  },
  {
   "cell_type": "code",
   "execution_count": 24,
   "source": [
    "first_sub_probs"
   ],
   "outputs": [
    {
     "output_type": "execute_result",
     "data": {
      "text/html": [
       "<div>\n",
       "<style scoped>\n",
       "    .dataframe tbody tr th:only-of-type {\n",
       "        vertical-align: middle;\n",
       "    }\n",
       "\n",
       "    .dataframe tbody tr th {\n",
       "        vertical-align: top;\n",
       "    }\n",
       "\n",
       "    .dataframe thead th {\n",
       "        text-align: right;\n",
       "    }\n",
       "</style>\n",
       "<table border=\"1\" class=\"dataframe\">\n",
       "  <thead>\n",
       "    <tr style=\"text-align: right;\">\n",
       "      <th></th>\n",
       "      <th>probs</th>\n",
       "    </tr>\n",
       "  </thead>\n",
       "  <tbody>\n",
       "    <tr>\n",
       "      <th>0</th>\n",
       "      <td>[0.0180546585470438, 0.0009900106815621257, 0....</td>\n",
       "    </tr>\n",
       "    <tr>\n",
       "      <th>1</th>\n",
       "      <td>[0.019475307315587997, 0.000711614266037941, 0...</td>\n",
       "    </tr>\n",
       "    <tr>\n",
       "      <th>2</th>\n",
       "      <td>[0.998879611492157, 3.706231291289441e-05, 2.7...</td>\n",
       "    </tr>\n",
       "    <tr>\n",
       "      <th>3</th>\n",
       "      <td>[0.967570424079895, 0.00017419122741557658, 0....</td>\n",
       "    </tr>\n",
       "    <tr>\n",
       "      <th>4</th>\n",
       "      <td>[0.7605699300765991, 0.23076406121253967, 0.00...</td>\n",
       "    </tr>\n",
       "    <tr>\n",
       "      <th>...</th>\n",
       "      <td>...</td>\n",
       "    </tr>\n",
       "    <tr>\n",
       "      <th>7760</th>\n",
       "      <td>[0.012181993573904037, 0.0002404934639343992, ...</td>\n",
       "    </tr>\n",
       "    <tr>\n",
       "      <th>7761</th>\n",
       "      <td>[0.9941835999488831, 0.0014554614899680018, 0....</td>\n",
       "    </tr>\n",
       "    <tr>\n",
       "      <th>7762</th>\n",
       "      <td>[7.893890142440796e-05, 0.9991487264633179, 2....</td>\n",
       "    </tr>\n",
       "    <tr>\n",
       "      <th>7763</th>\n",
       "      <td>[0.9738650918006897, 0.00017849467985797673, 0...</td>\n",
       "    </tr>\n",
       "    <tr>\n",
       "      <th>7764</th>\n",
       "      <td>[0.997802197933197, 0.00017589768685866147, 4....</td>\n",
       "    </tr>\n",
       "  </tbody>\n",
       "</table>\n",
       "<p>7765 rows × 1 columns</p>\n",
       "</div>"
      ],
      "text/plain": [
       "                                                  probs\n",
       "0     [0.0180546585470438, 0.0009900106815621257, 0....\n",
       "1     [0.019475307315587997, 0.000711614266037941, 0...\n",
       "2     [0.998879611492157, 3.706231291289441e-05, 2.7...\n",
       "3     [0.967570424079895, 0.00017419122741557658, 0....\n",
       "4     [0.7605699300765991, 0.23076406121253967, 0.00...\n",
       "...                                                 ...\n",
       "7760  [0.012181993573904037, 0.0002404934639343992, ...\n",
       "7761  [0.9941835999488831, 0.0014554614899680018, 0....\n",
       "7762  [7.893890142440796e-05, 0.9991487264633179, 2....\n",
       "7763  [0.9738650918006897, 0.00017849467985797673, 0...\n",
       "7764  [0.997802197933197, 0.00017589768685866147, 4....\n",
       "\n",
       "[7765 rows x 1 columns]"
      ]
     },
     "metadata": {},
     "execution_count": 24
    }
   ],
   "metadata": {}
  },
  {
   "cell_type": "code",
   "execution_count": null,
   "source": [],
   "outputs": [],
   "metadata": {}
  }
 ],
 "metadata": {
  "orig_nbformat": 4,
  "language_info": {
   "name": "python",
   "version": "3.8.5"
  },
  "kernelspec": {
   "name": "python3",
   "display_name": "Python 3.8.5 64-bit ('base': conda)"
  },
  "interpreter": {
   "hash": "98b0a9b7b4eaaa670588a142fd0a9b87eaafe866f1db4228be72b4211d12040f"
  }
 },
 "nbformat": 4,
 "nbformat_minor": 2
}