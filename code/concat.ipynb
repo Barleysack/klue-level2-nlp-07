{
 "cells": [
  {
   "cell_type": "code",
   "execution_count": 1,
   "id": "b218004e-eabe-4dd3-93ea-c31d53447925",
   "metadata": {},
   "outputs": [],
   "source": [
    "import pandas as pd"
   ]
  },
  {
   "cell_type": "code",
   "execution_count": 2,
   "id": "5b82af69-0fbf-48f2-8bbc-2cc5444c2903",
   "metadata": {},
   "outputs": [],
   "source": [
    "base = '../dataset/train/translate/'"
   ]
  },
  {
   "cell_type": "code",
   "execution_count": 3,
   "id": "47d3e814-bfe7-4355-bd5c-978b622d91d0",
   "metadata": {},
   "outputs": [
    {
     "data": {
      "text/plain": [
       "551"
      ]
     },
     "execution_count": 3,
     "metadata": {},
     "output_type": "execute_result"
    }
   ],
   "source": [
    "27599//50"
   ]
  },
  {
   "cell_type": "code",
   "execution_count": 4,
   "id": "80c456aa-92ee-46f0-b009-4a613c26dd1f",
   "metadata": {},
   "outputs": [],
   "source": [
    "trans_df = pd.DataFrame()"
   ]
  },
  {
   "cell_type": "code",
   "execution_count": 5,
   "id": "145f65e2-9a4c-4373-bdcc-da917849ef7d",
   "metadata": {},
   "outputs": [
    {
     "data": {
      "text/plain": [
       "27599"
      ]
     },
     "execution_count": 5,
     "metadata": {},
     "output_type": "execute_result"
    }
   ],
   "source": [
    "for idx in range(551+1):\n",
    "    cur_df = pd.read_csv(base + f'train_trans{idx}.csv')\n",
    "    trans_df = pd.concat([trans_df, cur_df], axis=0)\n",
    "len(trans_df)"
   ]
  },
  {
   "cell_type": "code",
   "execution_count": 6,
   "id": "0cd77290-1ac7-4d5a-8d5f-cdf24cadc00e",
   "metadata": {},
   "outputs": [],
   "source": [
    "# trans_df.to_csv('../dataset/train/train_trans.csv', index=False)"
   ]
  },
  {
   "cell_type": "code",
   "execution_count": 7,
   "id": "3f20ca27-f6e6-4142-a378-a3dee56bbb09",
   "metadata": {},
   "outputs": [
    {
     "data": {
      "text/html": [
       "<div>\n",
       "<style scoped>\n",
       "    .dataframe tbody tr th:only-of-type {\n",
       "        vertical-align: middle;\n",
       "    }\n",
       "\n",
       "    .dataframe tbody tr th {\n",
       "        vertical-align: top;\n",
       "    }\n",
       "\n",
       "    .dataframe thead th {\n",
       "        text-align: right;\n",
       "    }\n",
       "</style>\n",
       "<table border=\"1\" class=\"dataframe\">\n",
       "  <thead>\n",
       "    <tr style=\"text-align: right;\">\n",
       "      <th></th>\n",
       "      <th>id</th>\n",
       "      <th>sentence</th>\n",
       "      <th>subject_entity</th>\n",
       "      <th>object_entity</th>\n",
       "      <th>label</th>\n",
       "    </tr>\n",
       "  </thead>\n",
       "  <tbody>\n",
       "    <tr>\n",
       "      <th>0</th>\n",
       "      <td>14034</td>\n",
       "      <td>광주여자대학교 평생교육원(회장 이선재)은 어등관 1층 강의실 3104호에서 2019...</td>\n",
       "      <td>'광주여대'</td>\n",
       "      <td>'이선재'</td>\n",
       "      <td>org:top_members/employees</td>\n",
       "    </tr>\n",
       "    <tr>\n",
       "      <th>1</th>\n",
       "      <td>11248</td>\n",
       "      <td>자유한국당 곽상도 의원이 얻은 서울중앙지법 판결에 따르면 이씨는 공직자 윤리에 신고...</td>\n",
       "      <td>'곽상도'</td>\n",
       "      <td>'자유한국당'</td>\n",
       "      <td>per:employee_of</td>\n",
       "    </tr>\n",
       "    <tr>\n",
       "      <th>2</th>\n",
       "      <td>9577</td>\n",
       "      <td>보수당 수상 처칠, 앤서니 이든, 해롤드 맥밀런, 알렉 더글라스 홈은 1950년대와...</td>\n",
       "      <td>'앤서니 이든'</td>\n",
       "      <td>'보수당'</td>\n",
       "      <td>per:employee_of</td>\n",
       "    </tr>\n",
       "    <tr>\n",
       "      <th>3</th>\n",
       "      <td>14890</td>\n",
       "      <td>민주평화당 정동영 대표(전북 전주병)는 30일 비무장지대(DMZ)에서 도널드 트럼프...</td>\n",
       "      <td>'민주평화당'</td>\n",
       "      <td>'정동영'</td>\n",
       "      <td>org:top_members/employees</td>\n",
       "    </tr>\n",
       "    <tr>\n",
       "      <th>4</th>\n",
       "      <td>12544</td>\n",
       "      <td>2005년 5월 26일 테네시 주 내슈빌에 있는 택배 회사인 Rush Courier...</td>\n",
       "      <td>'로버트 F. 케네디'</td>\n",
       "      <td>'존 F. 케네디'</td>\n",
       "      <td>no_relation</td>\n",
       "    </tr>\n",
       "  </tbody>\n",
       "</table>\n",
       "</div>"
      ],
      "text/plain": [
       "      id                                           sentence subject_entity  \\\n",
       "0  14034  광주여자대학교 평생교육원(회장 이선재)은 어등관 1층 강의실 3104호에서 2019...         '광주여대'   \n",
       "1  11248  자유한국당 곽상도 의원이 얻은 서울중앙지법 판결에 따르면 이씨는 공직자 윤리에 신고...          '곽상도'   \n",
       "2   9577  보수당 수상 처칠, 앤서니 이든, 해롤드 맥밀런, 알렉 더글라스 홈은 1950년대와...       '앤서니 이든'   \n",
       "3  14890  민주평화당 정동영 대표(전북 전주병)는 30일 비무장지대(DMZ)에서 도널드 트럼프...        '민주평화당'   \n",
       "4  12544  2005년 5월 26일 테네시 주 내슈빌에 있는 택배 회사인 Rush Courier...   '로버트 F. 케네디'   \n",
       "\n",
       "  object_entity                      label  \n",
       "0         '이선재'  org:top_members/employees  \n",
       "1       '자유한국당'            per:employee_of  \n",
       "2         '보수당'            per:employee_of  \n",
       "3         '정동영'  org:top_members/employees  \n",
       "4    '존 F. 케네디'                no_relation  "
      ]
     },
     "execution_count": 7,
     "metadata": {},
     "output_type": "execute_result"
    }
   ],
   "source": [
    "trans_df.head()"
   ]
  },
  {
   "cell_type": "code",
   "execution_count": 10,
   "id": "aa9e0452-0c29-4cf9-b920-6243b82daf55",
   "metadata": {},
   "outputs": [],
   "source": [
    "id_list = list(trans_df['id'])\n",
    "sent_list = list(trans_df['sentence'])\n",
    "sub_list = [en[1:-1] for en in trans_df['subject_entity']]\n",
    "ob_list = [en[1:-1] for en in trans_df['object_entity']]\n",
    "label_list = list(trans_df['label'])"
   ]
  },
  {
   "cell_type": "code",
   "execution_count": 11,
   "id": "41074004-a650-4e4a-9e29-20f09684a418",
   "metadata": {},
   "outputs": [
    {
     "name": "stdout",
     "output_type": "stream",
     "text": [
      "7700 6453\n"
     ]
    },
    {
     "data": {
      "text/plain": [
       "Counter({'org:top_members/employees': 994,\n",
       "         'no_relation': 3599,\n",
       "         'per:origin': 532,\n",
       "         'per:alternate_names': 425,\n",
       "         'per:employee_of': 1250,\n",
       "         'org:members': 147,\n",
       "         'org:member_of': 806,\n",
       "         'org:place_of_headquarters': 519,\n",
       "         'org:alternate_names': 707,\n",
       "         'per:date_of_death': 138,\n",
       "         'per:title': 816,\n",
       "         'org:founded': 169,\n",
       "         'per:other_family': 81,\n",
       "         'org:dissolved': 28,\n",
       "         'per:children': 105,\n",
       "         'per:schools_attended': 33,\n",
       "         'per:parents': 235,\n",
       "         'per:place_of_birth': 82,\n",
       "         'per:place_of_residence': 73,\n",
       "         'per:siblings': 58,\n",
       "         'org:product': 151,\n",
       "         'per:colleagues': 140,\n",
       "         'per:spouse': 198,\n",
       "         'org:founded_by': 58,\n",
       "         'org:number_of_employees/members': 23,\n",
       "         'per:place_of_death': 12,\n",
       "         'per:product': 82,\n",
       "         'per:date_of_birth': 219,\n",
       "         'org:political/religious_affiliation': 38,\n",
       "         'per:religion': 43})"
      ]
     },
     "execution_count": 11,
     "metadata": {},
     "output_type": "execute_result"
    }
   ],
   "source": [
    "from collections import Counter\n",
    "sub_cnt, ob_cnt = 0, 0\n",
    "label_wrong = []\n",
    "for i in range(len(id_list)):\n",
    "    if sub_list[i] not in sent_list[i] or ob_list[i] not in sent_list[i]:\n",
    "        if sub_list[i] not in sent_list[i]:\n",
    "            sub_cnt += 1\n",
    "        if ob_list[i] not in sent_list[i]:\n",
    "            ob_cnt += 1\n",
    "        # count += 1\n",
    "        # print(sub_list[i], ob_list[i], label_list[i])\n",
    "        # print(sent_list[i])\n",
    "        # print(\"-\"*100)\n",
    "        label_wrong.append(label_list[i])\n",
    "counter = Counter(label_wrong)\n",
    "print(sub_cnt, ob_cnt)\n",
    "counter"
   ]
  },
  {
   "cell_type": "code",
   "execution_count": 12,
   "id": "9f729088-2629-4118-9bd3-90aa4dfa9817",
   "metadata": {},
   "outputs": [
    {
     "data": {
      "text/plain": [
       "Counter({'org:top_members/employees': 3641,\n",
       "         'per:employee_of': 3037,\n",
       "         'no_relation': 8104,\n",
       "         'per:title': 1788,\n",
       "         'per:place_of_death': 34,\n",
       "         'per:date_of_birth': 960,\n",
       "         'org:member_of': 1586,\n",
       "         'per:origin': 1049,\n",
       "         'per:alternate_names': 851,\n",
       "         'org:members': 357,\n",
       "         'org:founded_by': 132,\n",
       "         'org:place_of_headquarters': 1016,\n",
       "         'org:alternate_names': 1122,\n",
       "         'per:other_family': 161,\n",
       "         'per:date_of_death': 355,\n",
       "         'per:parents': 442,\n",
       "         'per:colleagues': 454,\n",
       "         'org:founded': 382,\n",
       "         'per:spouse': 676,\n",
       "         'org:dissolved': 56,\n",
       "         'per:children': 258,\n",
       "         'per:schools_attended': 70,\n",
       "         'per:place_of_birth': 141,\n",
       "         'per:place_of_residence': 164,\n",
       "         'per:siblings': 116,\n",
       "         'per:product': 118,\n",
       "         'per:religion': 82,\n",
       "         'org:product': 323,\n",
       "         'org:number_of_employees/members': 41,\n",
       "         'org:political/religious_affiliation': 83})"
      ]
     },
     "execution_count": 12,
     "metadata": {},
     "output_type": "execute_result"
    }
   ],
   "source": [
    "count_label = Counter(label_list)\n",
    "count_label"
   ]
  },
  {
   "cell_type": "code",
   "execution_count": 13,
   "id": "4fbf4cf4-d88e-4949-a6b7-41c0a92424d1",
   "metadata": {},
   "outputs": [
    {
     "data": {
      "text/plain": [
       "defaultdict(None,\n",
       "            {'org:top_members/employees': 0.27300192254875033,\n",
       "             'no_relation': 0.444101678183613,\n",
       "             'per:origin': 0.5071496663489037,\n",
       "             'per:alternate_names': 0.4994124559341951,\n",
       "             'per:employee_of': 0.4115903852486006,\n",
       "             'org:members': 0.4117647058823529,\n",
       "             'org:member_of': 0.5081967213114754,\n",
       "             'org:place_of_headquarters': 0.5108267716535433,\n",
       "             'org:alternate_names': 0.6301247771836007,\n",
       "             'per:date_of_death': 0.38873239436619716,\n",
       "             'per:title': 0.4563758389261745,\n",
       "             'org:founded': 0.4424083769633508,\n",
       "             'per:other_family': 0.5031055900621118,\n",
       "             'org:dissolved': 0.5,\n",
       "             'per:children': 0.4069767441860465,\n",
       "             'per:schools_attended': 0.4714285714285714,\n",
       "             'per:parents': 0.5316742081447964,\n",
       "             'per:place_of_birth': 0.5815602836879432,\n",
       "             'per:place_of_residence': 0.4451219512195122,\n",
       "             'per:siblings': 0.5,\n",
       "             'org:product': 0.4674922600619195,\n",
       "             'per:colleagues': 0.30837004405286345,\n",
       "             'per:spouse': 0.29289940828402367,\n",
       "             'org:founded_by': 0.4393939393939394,\n",
       "             'org:number_of_employees/members': 0.5609756097560976,\n",
       "             'per:place_of_death': 0.35294117647058826,\n",
       "             'per:product': 0.6949152542372882,\n",
       "             'per:date_of_birth': 0.228125,\n",
       "             'org:political/religious_affiliation': 0.4578313253012048,\n",
       "             'per:religion': 0.524390243902439})"
      ]
     },
     "execution_count": 13,
     "metadata": {},
     "output_type": "execute_result"
    }
   ],
   "source": [
    "from collections import defaultdict\n",
    "ratio = defaultdict()\n",
    "for label in counter.keys():\n",
    "    ratio[label] = counter[label]/count_label[label]\n",
    "ratio"
   ]
  },
  {
   "cell_type": "code",
   "execution_count": 34,
   "id": "4f28e338-5f31-4949-8df8-a617d44dfad1",
   "metadata": {},
   "outputs": [
    {
     "data": {
      "text/plain": [
       "27599"
      ]
     },
     "execution_count": 34,
     "metadata": {},
     "output_type": "execute_result"
    }
   ],
   "source": [
    "import pandas as pd\n",
    "base = '../dataset/train/translate/'\n",
    "new_df = pd.DataFrame()\n",
    "for idx in range(551+1):\n",
    "    cur_df = pd.read_csv(base + f'train_trans{idx}.csv')\n",
    "    new_df = pd.concat([new_df, cur_df], axis=0)\n",
    "len(new_df)"
   ]
  },
  {
   "cell_type": "code",
   "execution_count": 35,
   "id": "d3d2eeda-1abe-461f-b4cd-914737333e28",
   "metadata": {},
   "outputs": [],
   "source": [
    "id_list = list(new_df['id'])\n",
    "sent_list = list(new_df['sentence'])\n",
    "sub_list = list(new_df['subject_entity'])\n",
    "ob_list = list(new_df['object_entity'])\n",
    "label_list = list(new_df['label'])"
   ]
  },
  {
   "cell_type": "code",
   "execution_count": 36,
   "id": "d6b6d67a-8bf1-4972-9f70-ca735a0aede9",
   "metadata": {},
   "outputs": [
    {
     "name": "stdout",
     "output_type": "stream",
     "text": [
      "7254 6022\n"
     ]
    },
    {
     "data": {
      "text/plain": [
       "Counter({'no_relation': 3594,\n",
       "         'per:alternate_names': 355,\n",
       "         'per:origin': 475,\n",
       "         'per:employee_of': 1147,\n",
       "         'org:members': 131,\n",
       "         'org:member_of': 704,\n",
       "         'org:top_members/employees': 989,\n",
       "         'org:alternate_names': 628,\n",
       "         'per:date_of_death': 138,\n",
       "         'per:title': 748,\n",
       "         'org:founded': 153,\n",
       "         'per:other_family': 73,\n",
       "         'org:dissolved': 28,\n",
       "         'org:place_of_headquarters': 460,\n",
       "         'per:children': 91,\n",
       "         'per:schools_attended': 30,\n",
       "         'per:parents': 211,\n",
       "         'per:place_of_birth': 73,\n",
       "         'per:place_of_residence': 65,\n",
       "         'org:product': 142,\n",
       "         'per:colleagues': 140,\n",
       "         'per:spouse': 198,\n",
       "         'org:founded_by': 51,\n",
       "         'per:siblings': 56,\n",
       "         'org:number_of_employees/members': 19,\n",
       "         'per:place_of_death': 12,\n",
       "         'per:product': 77,\n",
       "         'per:date_of_birth': 219,\n",
       "         'org:political/religious_affiliation': 32,\n",
       "         'per:religion': 41})"
      ]
     },
     "execution_count": 36,
     "metadata": {},
     "output_type": "execute_result"
    }
   ],
   "source": [
    "from collections import Counter\n",
    "sub_cnt, ob_cnt = 0, 0\n",
    "label_wrong = []\n",
    "for i in range(len(id_list)):\n",
    "    if sub_list[i] not in sent_list[i] or ob_list[i] not in sent_list[i]:\n",
    "        if sub_list[i] not in sent_list[i]:\n",
    "            sub_cnt += 1\n",
    "        if ob_list[i] not in sent_list[i]:\n",
    "            ob_cnt += 1\n",
    "        label_wrong.append(label_list[i])\n",
    "counter = Counter(label_wrong)\n",
    "print(sub_cnt, ob_cnt)\n",
    "counter"
   ]
  },
  {
   "cell_type": "code",
   "execution_count": 37,
   "id": "7d351c43-f7af-4787-a822-881f3ca23295",
   "metadata": {},
   "outputs": [
    {
     "data": {
      "text/plain": [
       "Counter({'org:top_members/employees': 3641,\n",
       "         'per:employee_of': 3037,\n",
       "         'no_relation': 8104,\n",
       "         'per:title': 1788,\n",
       "         'per:place_of_death': 34,\n",
       "         'per:date_of_birth': 960,\n",
       "         'org:member_of': 1586,\n",
       "         'per:origin': 1049,\n",
       "         'per:alternate_names': 851,\n",
       "         'org:members': 357,\n",
       "         'org:founded_by': 132,\n",
       "         'org:place_of_headquarters': 1016,\n",
       "         'org:alternate_names': 1122,\n",
       "         'per:other_family': 161,\n",
       "         'per:date_of_death': 355,\n",
       "         'per:parents': 442,\n",
       "         'per:colleagues': 454,\n",
       "         'org:founded': 382,\n",
       "         'per:spouse': 676,\n",
       "         'org:dissolved': 56,\n",
       "         'per:children': 258,\n",
       "         'per:schools_attended': 70,\n",
       "         'per:place_of_birth': 141,\n",
       "         'per:place_of_residence': 164,\n",
       "         'per:siblings': 116,\n",
       "         'per:product': 118,\n",
       "         'per:religion': 82,\n",
       "         'org:product': 323,\n",
       "         'org:number_of_employees/members': 41,\n",
       "         'org:political/religious_affiliation': 83})"
      ]
     },
     "execution_count": 37,
     "metadata": {},
     "output_type": "execute_result"
    }
   ],
   "source": [
    "count_label = Counter(label_list)\n",
    "count_label"
   ]
  },
  {
   "cell_type": "code",
   "execution_count": 38,
   "id": "8d0ac2ae-0e82-4ee3-acb2-a5ac5c5d8fe7",
   "metadata": {},
   "outputs": [
    {
     "data": {
      "text/plain": [
       "defaultdict(None,\n",
       "            {'no_relation': 0.44348469891411646,\n",
       "             'per:alternate_names': 0.4171562867215041,\n",
       "             'per:origin': 0.45281220209723544,\n",
       "             'per:employee_of': 0.3776753375041159,\n",
       "             'org:members': 0.36694677871148457,\n",
       "             'org:member_of': 0.44388398486759145,\n",
       "             'org:top_members/employees': 0.27162867344136227,\n",
       "             'org:alternate_names': 0.5597147950089126,\n",
       "             'per:date_of_death': 0.38873239436619716,\n",
       "             'per:title': 0.41834451901565994,\n",
       "             'org:founded': 0.4005235602094241,\n",
       "             'per:other_family': 0.453416149068323,\n",
       "             'org:dissolved': 0.5,\n",
       "             'org:place_of_headquarters': 0.452755905511811,\n",
       "             'per:children': 0.35271317829457366,\n",
       "             'per:schools_attended': 0.42857142857142855,\n",
       "             'per:parents': 0.47737556561085975,\n",
       "             'per:place_of_birth': 0.5177304964539007,\n",
       "             'per:place_of_residence': 0.39634146341463417,\n",
       "             'org:product': 0.43962848297213625,\n",
       "             'per:colleagues': 0.30837004405286345,\n",
       "             'per:spouse': 0.29289940828402367,\n",
       "             'org:founded_by': 0.38636363636363635,\n",
       "             'per:siblings': 0.4827586206896552,\n",
       "             'org:number_of_employees/members': 0.4634146341463415,\n",
       "             'per:place_of_death': 0.35294117647058826,\n",
       "             'per:product': 0.652542372881356,\n",
       "             'per:date_of_birth': 0.228125,\n",
       "             'org:political/religious_affiliation': 0.3855421686746988,\n",
       "             'per:religion': 0.5})"
      ]
     },
     "execution_count": 38,
     "metadata": {},
     "output_type": "execute_result"
    }
   ],
   "source": [
    "from collections import defaultdict\n",
    "ratio = defaultdict()\n",
    "for label in counter.keys():\n",
    "    ratio[label] = counter[label]/count_label[label]\n",
    "ratio"
   ]
  },
  {
   "cell_type": "code",
   "execution_count": 48,
   "id": "a5fb2cee-d041-4537-a8dc-e3ddd433f3d7",
   "metadata": {},
   "outputs": [
    {
     "name": "stdout",
     "output_type": "stream",
     "text": [
      "412 / 30933  /  고무 오리  /  per:product\n",
      "러버덕의 창시자 플로렌타인 호프만(Florentine Hoffmann)은 2001년 박물관에서 옛 도시의 풍경화를 보다가 \"도시를 배경으로 현대적인 오브제를 배치하는 것은 어떨까?\"라는 아이디어를 떠올렸다고 말했다.\n",
      "----------------------------------------------------------------------------------------------------\n",
      "674 / 5048  /  이 순간  /  per:product\n",
      "일명 '좋은 날 3부작'의 가사를 썼는데, 사실 이 세 곡이 아이유의 '나우 나우' 세계에서 조금 떨어진 섬에 있다고 생각한 적도 있다.\n",
      "----------------------------------------------------------------------------------------------------\n",
      "1651 / 12157  /  반전! 야생 야채  /  per:product\n",
      "2011년 9월 블로그에 올라온 사진과 레시피가 네이버 웹툰 관계자들의 눈길을 사로잡았고, 같은 해 웹툰 '역전! 그는 \"야마에 요리\"를 연재하여 데뷔했습니다. 가족 관계로는 부모님과 5살 된 남동생이 있습니다.\n",
      "----------------------------------------------------------------------------------------------------\n",
      "1973 / 10965  /  성인식  /  per:product\n",
      "자작곡 '이상형'과 박지윤의 '성인상'으로 결승에 진출한 버스커 버스커는 슈퍼위크에서 2개월과 함께 <줄리엣>을 불렀다.\n",
      "----------------------------------------------------------------------------------------------------\n",
      "2036 / 29526  /  양화  /  per:product\n",
      "임응구는 동경미술학교 양식으로 전통적이고 고전적인 서양식 구상화를 그렸다. 서양식 머리를 한 새로운 스타일의 여성이 아들에게 젖을 먹이는 모습을 그린 '모녀'(1939)에서 그는 식민지 체제에 의해 처형된 시어머니의 이미지를 구현한다. 하고 있다는 평가도 있다.\n",
      "----------------------------------------------------------------------------------------------------\n",
      "2246 / 7945  /  자궁경부 자궁내막증  /  per:product\n",
      "요한 바이어(Johann Bayer)는 1603년 아우크스부르크(Augsburg)에서 출판된 Uranometria Omnium Asterismorum의 저자로 가장 잘 알려져 있습니다.\n",
      "----------------------------------------------------------------------------------------------------\n",
      "2337 / 19189  /  Mononoke Hime  /  per:product\n",
      "웹툰을 접한 누리꾼들은 \"웹툰을 그리라고 했는데 '스튜디오 지브리'를 직접 만들었다\", \"'모노노케 공주'가 생각난다\" 등의 반응을 보였다. NS.\n",
      "----------------------------------------------------------------------------------------------------\n",
      "2367 / 17192  /  난 참을 수 없어  /  per:product\n",
      "Can't Stop Changu는 일본 만화가 Yoshito Usui의 코미디 만화 시리즈입니다.\n",
      "----------------------------------------------------------------------------------------------------\n",
      "4224 / 5204  /  도쿄 구울  /  per:product\n",
      "Tokyo Ghoul은 주간 영 점프에서 이시다 스이가 연재하는 만화와 스튜디오 피에로가 제작한 TV 애니메이션입니다.\n",
      "----------------------------------------------------------------------------------------------------\n",
      "4271 / 5824  /  태백산맥  /  per:product\n",
      "특히 보성군은 '조정래 작가와 소설 태백산'으로 노벨문학상 시상식을 준비하며 세계적인 문학 여행지로 거듭나는 발판을 마련했다.\n",
      "----------------------------------------------------------------------------------------------------\n",
      "4899 / 23502  /  개똥벌레  /  per:product\n",
      "1982년 6월 신형원이 작곡한 '본질과 유리벽'은 라디오 프로그램별 요청곡 1위를 차지할 정도로 큰 호응을 얻었다. 1989년 한돌타래음 2의 '혼자 아리랑'을 작곡했는데, 이 노래는 독도가 남과 북의 배가 만나는 곳이라는 생각으로 통일을 그린 서사시였다. 그는 자신의 로고 'Skeinbat'를 만들기 시작했습니다.\n",
      "----------------------------------------------------------------------------------------------------\n",
      "5128 / 32220  /  경희대학교  /  per:product\n",
      "그러나 서울에서 생활을 계속할 수 없었기 때문에 경희대 설립자이자 당시 경희대 총장이었던 조영식은 문재인에게 '4년 전액 장학금'을 약속하고 경희대 입학을 권유했다. 대학교. 1972년 경희대 법대에 3학년으로 입학한 것으로 알려졌지만 이 일화의 사실관계가 확인되지 않았다는 의혹도 있다.\n",
      "----------------------------------------------------------------------------------------------------\n",
      "5336 / 4906  /  Kayleigh-Dixon 구성  /  per:product\n",
      "1919년 Leonard Eugene Dixon은 Cayley-Dixon 구조를 도입하여 양의 정부호 규범을 가진 실수에 대한 합성 대수학을 체계적으로 구성하는 데 사용했습니다.\n",
      "----------------------------------------------------------------------------------------------------\n",
      "5813 / 8133  /  컨트리 음악  /  per:product\n",
      "돈 깁슨(Don Gibson, 본명 Donald Eugene Gibson)(1928년 4월 3일 ~ 2003년 11월 17일)은 미국의 컨트리 뮤직 싱어송라이터, 기타리스트, 밴드 리더이다. , 영화배우입니다.\n",
      "----------------------------------------------------------------------------------------------------\n",
      "6515 / 3599  /  보고 싶어요  /  per:product\n",
      "추대엽은 김범수의 '보고싶다' 가사, '얼마나 기다려도 갈 수 없다'. '오나'와 같은 모습으로 변신해 웃음을 자아냈다.\n",
      "----------------------------------------------------------------------------------------------------\n",
      "6565 / 12607  /  하하행  /  per:product\n",
      "장용학은 1987년 단편 <행행>을 끝으로 글이 절실히 필요했고, 서울 갈현동 자택에서 은둔자와 함께 살았다.\n",
      "----------------------------------------------------------------------------------------------------\n",
      "6820 / 27262  /  죄송합니다  /  per:product\n",
      "지난 16일 서주원의 아내 김민영의 유튜브 채널 '오만'에는 \"남편에게 물어봤다. 하트 시그널의 진실\"이라는 제목의 8분짜리 영상이 게재됐다.\n",
      "----------------------------------------------------------------------------------------------------\n",
      "8458 / 4628  /  본 슈프리머시  /  per:product\n",
      "2010년에 그는 The Bourne Supremacy와 The Bourne Ultimatum을 감독한 Paul Greengrass가 감독한 영화 Green Zone에 출연했습니다.\n",
      "----------------------------------------------------------------------------------------------------\n",
      "9732 / 27210  /  과학 소설  /  per:product\n",
      "허버트 조지 웰스(Herbert George Wells, 1866년 9월 21일 ~ 1946년 8월 13일)는 SF로 유명한 영국의 소설가이자 문명 평론가입니다.\n",
      "----------------------------------------------------------------------------------------------------\n",
      "10049 / 11210  /  달빛이야  /  per:product\n",
      "박문성은 20일 유튜브 달순라이브에 올라온 영상에서 \"이적료 관련 사이트 트랜스퍼마켓이 가치평가 500위권을 발표했다\"고 말했다.\n",
      "----------------------------------------------------------------------------------------------------\n",
      "10313 / 19674  /  유명한 음악  /  per:product\n",
      "음악사가 Schindler와 Schwartz는 1950년대와 1960년대 사이의 대중 음악 스타일의 변화를 설명하면서 비틀즈는 \"대중 음악의 사운드, 스타일 및 태도를 발전시켰고, 로큰롤의 문을 열었고, 영국 록의 물결을 일으켰다. .\" 그들의 영향력을 무시할 수 없다\"고 말했다.\n",
      "----------------------------------------------------------------------------------------------------\n",
      "10949 / 7550  /  얼음과 불의 노래  /  per:product\n",
      "A Feast for Crows는 George R. R. Martin의 A Song of Ice and Fire 시리즈의 네 번째 부분입니다.\n",
      "----------------------------------------------------------------------------------------------------\n",
      "11730 / 15369  /  찰랑 찰랑  /  per:product\n",
      "또한 개그우먼 이용식의 '포식', '너의 의미' 이자연, '흔적'의 최연아, '이상한', '장미빛 스카프'의 맛있는 대사로 진행된다. 그리고 'I'm Happy' 윤항기, '정말 몰랐어', '한 사람이 간다' 임희숙, 이수미 등 5080명의 가수 콜라보로 중년의 추억 '여고 시절'의 현당, '여자는 몰라요'의 김용만, '회전의자'의 김용만 등이 출연해 감성을 자극할 예정이다.\n",
      "----------------------------------------------------------------------------------------------------\n",
      "11796 / 22841  /  가시 고기  /  per:product\n",
      "등반 일정 중 최진실은 소설 '가시살'(2000)의 작가 조창인의 신작 '첫사랑'(2005)을 읽었다. 조창인이 최진실에게 준 선물이었다.\n",
      "----------------------------------------------------------------------------------------------------\n",
      "12267 / 18378  /  자궁경부 자궁내막증  /  per:product\n",
      "이 표기법은 1603년 독일 천문 차트 제작자인 요한 바이어가 천문대에 있는 별 목록을 위해 만든 별 명명 체계입니다.\n",
      "----------------------------------------------------------------------------------------------------\n",
      "12989 / 7325  /  웹툰 《역전! 야매요리》  /  per:product\n",
      "한편, 정다정은 지난 10월 13일 자신의 웹툰 <역전! '야마메요리'에서는 이광낙의 화두인 '다 됐다'가 쓰였다.\n",
      "----------------------------------------------------------------------------------------------------\n",
      "13550 / 19688  /  복숭아  /  per:product\n",
      "피치는 아이유의 2012년 싱글 '스무살의 봄'에 수록된 곡으로, 아이유가 설리를 생각하며 작곡한 곡이다.\n",
      "----------------------------------------------------------------------------------------------------\n",
      "13563 / 12867  /  정오의 희망곡  /  per:product\n",
      "28일 방송된 MBC FM4U '정오의 희망송 김신영'에서는 김신영이 최근 웬디와 나눈 문자 내용을 공개했다.\n",
      "----------------------------------------------------------------------------------------------------\n",
      "14146 / 15211  /  컨트리 음악  /  per:product\n",
      "1933년 한 살 어린 루이스 웰스와 결혼해 1936년 조니 라이트와 함께 컨트리 뮤직 보컬 듀오 \"\"의 보컬 겸 기타리스트로 데뷔했다. 그는 \"The Anglin Brothers\"의 보컬과 기타리스트로 일했으며 1938년 솔로 데뷔를 했습니다.\n",
      "----------------------------------------------------------------------------------------------------\n",
      "14176 / 15587  /  연방주의자  /  per:product\n",
      "Alexander Hamilton, John J., James Madison은 \"미국인\"이라는 용어를 미국 헌법 비준을 옹호하기 위해 작성된 1787-1788년 연방주의 논문에서 미국 전체를 지칭하거나 미국만을 지칭하는 데 사용했습니다.\n",
      "----------------------------------------------------------------------------------------------------\n",
      "14538 / 14066  /  피론주의  /  per:product\n",
      "Pyronism은 기원전 1세기에 그의 추종자인 Aenesidemus에 의해 창설되었으며, 2세기 후반과 3세기 초 또는 3세기 후반에 On Mathematicians를 쓴 Sextus Empiricus에 의해 작성되었습니다.\n",
      "----------------------------------------------------------------------------------------------------\n",
      "16458 / 15196  /  복숭아  /  per:product\n",
      "송하예는 심사위원 보아, 박진영, 양현석 앞에서 아이유의 피치와 리한나의 우산을 불렀다.\n",
      "----------------------------------------------------------------------------------------------------\n",
      "17265 / 26821  /  Wir ham' noch lange nicht genug  /  per:product\n",
      "독일의 하드 록 밴드 Böze Onkelz의 8번째 스튜디오 앨범은 아직 멀었습니다. 1991년 8월 26일 \"Bellaphon Records\"에서 발매되었다.\n",
      "----------------------------------------------------------------------------------------------------\n",
      "17367 / 24356  /  우라노메트리아  /  per:product\n",
      "이러한 밝기 변화로 인해 요한 바이엘은 1603년 \"Uranometria\"에서 베텔게우스를 가장 밝은 알파별, 일반적으로 더 밝은 리겔을 두 번째로 밝은 베타별로 기록한 것으로 보입니다.\n",
      "----------------------------------------------------------------------------------------------------\n",
      "18065 / 5853  /  2008년 웹툰 '노병가'  /  per:product\n",
      "기안84는 2008년 웹툰 '늙은병가'로 데뷔한 웹툰 작가로 '패션왕', '배움터 리턴즈', '회춘'을 연재 중이다.\n",
      "----------------------------------------------------------------------------------------------------\n",
      "18527 / 7778  /  케이조쿠  /  per:product\n",
      "이 작품은 1999년에 방송되어 2000년에 극장에서 개봉된 탐정 드라마 게이조쿠의 세계관과 일부 설정을 따르고 있습니다.\n",
      "----------------------------------------------------------------------------------------------------\n",
      "18825 / 12503  /  은하수를 여행하는 히치하이커를 위한 안내서  /  per:product\n",
      "Slartibartfast는 Douglas Adams의 코믹 공상과학 소설인 A Hitchhiker's Guide to the Milky Way에 등장합니다.\n",
      "----------------------------------------------------------------------------------------------------\n",
      "18959 / 12691  /  천태종  /  per:product\n",
      "대각국사가 국청사에서 천태교 연구를 강의한 후 천태교가 창건되었다(1097).\n",
      "----------------------------------------------------------------------------------------------------\n",
      "19752 / 12752  /  웹툰 《역전! 야매요리》  /  per:product\n",
      "2012년 10월 18일 만화가 미티는 웹툰 \"역전! '야생요리'의 주인공이자 작가인 정다정의 분신인 '야마토끼'가 등장했다.\n",
      "----------------------------------------------------------------------------------------------------\n",
      "19859 / 14603  /  공화국 전투찬가  /  per:product\n",
      "'The Battle Hymn of the Republic'은 미국의 줄리아 워드 하우(Julia Ward Howe)가 작곡한 곡으로 남북전쟁 이전에 알려진 'Corse of John Brown'의 가사를 다듬은 곡이다. Julia Ward How가 가사를 썼습니다.\n",
      "----------------------------------------------------------------------------------------------------\n",
      "20643 / 15423  /  나츠메 우호서  /  per:product\n",
      "\"나츠메 우호의 서\"는 하쿠센샤의 LaLa와 LaLa DX에서 연재된 미도리카와 유키의 만화입니다.\n",
      "----------------------------------------------------------------------------------------------------\n",
      "22413 / 5586  /  페아노 공리계  /  per:product\n",
      "근세에 고틀로프 프레게는 그의 저서 개념적 표기법(Conceptual Notation)에서 논리적 기호와 체계화된 술어 논리를 고안했고, 주세페 페아노는 집합론을 발전시키고 페아노의 공리를 고안하여 수학의 논리적 토대를 마련했습니다.\n",
      "----------------------------------------------------------------------------------------------------\n",
      "22638 / 7358  /  아벨 범주  /  per:product\n",
      "David Alvin Booksbaum은 그의 1955년 논문에서 Abelian 범주의 개념을 소개했는데, 여기서 뱀 정리가 이미 나타납니다.\n",
      "----------------------------------------------------------------------------------------------------\n",
      "22873 / 27403  /  맨해튼 계획  /  per:product\n",
      "전쟁이 계속되고 과학자들이 점차적으로 방위 연구에서 주도권을 상실하자 실망한 실라드는 맨해튼 프로젝트의 군 사령관인 레슬리 그로브스 대위와 자주 충돌했습니다.\n",
      "----------------------------------------------------------------------------------------------------\n"
     ]
    }
   ],
   "source": [
    "from collections import Counter\n",
    "for i in range(len(id_list)):\n",
    "    if label_list[i] == 'per:product':\n",
    "        # if sub_list[i] not in sent_list[i] or ob_list[i] not in sent_list[i]:\n",
    "        if ob_list[i] not in sent_list[i]:\n",
    "            # print(i, '/', id_list[i] , ' / ' , sub_list[i] , ' / ' , ob_list[i], ' / ', label_list[i])\n",
    "            print(i, '/', id_list[i] , ' / ' , ob_list[i], ' / ', label_list[i])\n",
    "            print(sent_list[i])\n",
    "            print(\"-\"*100)"
   ]
  },
  {
   "cell_type": "code",
   "execution_count": 47,
   "id": "978f574e-4072-49c4-8837-a332e4877500",
   "metadata": {},
   "outputs": [],
   "source": [
    "IDX = [25072 , 24998 , 24496 , 24362 , 24307 , 23753 , 22879 ]\n",
    "# mod_sub = ['James Rolf', '찰스 라이엘']\n",
    "mod_ob = ['크레용 신짱', 'Dracula', 'Linux', 'Love in the Dark', 'Dimension', '팬티 & 스타킹 가터벨트', '우주 전쟁!']\n",
    "for i, idx in enumerate(IDX):\n",
    "    # sub_list[idx] = mod_sub[i]\n",
    "    ob_list[idx] = mod_ob[i]"
   ]
  },
  {
   "cell_type": "code",
   "execution_count": null,
   "id": "19fe4f7d-4e7d-438d-aac2-2bea8adc92b9",
   "metadata": {},
   "outputs": [],
   "source": [
    "new_df['subject_entity'] = [\"'\"+sub+\"'\" for sub in sub_list]\n",
    "new_df['object_entity'] = [\"'\"+ob+\"'\" for ob in ob_list]"
   ]
  },
  {
   "cell_type": "code",
   "execution_count": 1,
   "id": "7fa59930-da40-429d-a0bb-c83f23b81153",
   "metadata": {},
   "outputs": [],
   "source": [
    "# new_df.to_csv('../dataset/train/train_trans85.csv', index=False)"
   ]
  },
  {
   "cell_type": "code",
   "execution_count": 2,
   "id": "5552a86e-00f7-413b-a614-6f05737439fa",
   "metadata": {},
   "outputs": [],
   "source": [
    "import pandas as pd\n",
    "\n",
    "df = pd.read_csv('../dataset/train/train_trans85.csv')"
   ]
  },
  {
   "cell_type": "code",
   "execution_count": 3,
   "id": "b4028d6c-dfcc-4eb5-9181-b8f35ba99892",
   "metadata": {},
   "outputs": [
    {
     "data": {
      "text/html": [
       "<div>\n",
       "<style scoped>\n",
       "    .dataframe tbody tr th:only-of-type {\n",
       "        vertical-align: middle;\n",
       "    }\n",
       "\n",
       "    .dataframe tbody tr th {\n",
       "        vertical-align: top;\n",
       "    }\n",
       "\n",
       "    .dataframe thead th {\n",
       "        text-align: right;\n",
       "    }\n",
       "</style>\n",
       "<table border=\"1\" class=\"dataframe\">\n",
       "  <thead>\n",
       "    <tr style=\"text-align: right;\">\n",
       "      <th></th>\n",
       "      <th>Unnamed: 0</th>\n",
       "      <th>id</th>\n",
       "      <th>sentence</th>\n",
       "      <th>subject_entity</th>\n",
       "      <th>object_entity</th>\n",
       "      <th>label</th>\n",
       "    </tr>\n",
       "  </thead>\n",
       "  <tbody>\n",
       "    <tr>\n",
       "      <th>0</th>\n",
       "      <td>0</td>\n",
       "      <td>14034</td>\n",
       "      <td>광주여자대학교 평생교육원(회장 이선재)은 어등관 1층 강의실 3104호에서 2019...</td>\n",
       "      <td>'광주여자대학교'</td>\n",
       "      <td>'이선재'</td>\n",
       "      <td>org:top_members/employees</td>\n",
       "    </tr>\n",
       "    <tr>\n",
       "      <th>1</th>\n",
       "      <td>1</td>\n",
       "      <td>11248</td>\n",
       "      <td>자유한국당 곽상도 의원이 얻은 서울중앙지법 판결에 따르면 이씨는 공직자 윤리에 신고...</td>\n",
       "      <td>'곽상도'</td>\n",
       "      <td>'자유한국당'</td>\n",
       "      <td>per:employee_of</td>\n",
       "    </tr>\n",
       "    <tr>\n",
       "      <th>2</th>\n",
       "      <td>2</td>\n",
       "      <td>9577</td>\n",
       "      <td>보수당 수상 처칠, 앤서니 이든, 해롤드 맥밀런, 알렉 더글라스 홈은 1950년대와...</td>\n",
       "      <td>'앤서니 이든'</td>\n",
       "      <td>'보수당'</td>\n",
       "      <td>per:employee_of</td>\n",
       "    </tr>\n",
       "    <tr>\n",
       "      <th>3</th>\n",
       "      <td>3</td>\n",
       "      <td>14890</td>\n",
       "      <td>민주평화당 정동영 대표(전북 전주병)는 30일 비무장지대(DMZ)에서 도널드 트럼프...</td>\n",
       "      <td>'민주평화당'</td>\n",
       "      <td>'정동영'</td>\n",
       "      <td>org:top_members/employees</td>\n",
       "    </tr>\n",
       "    <tr>\n",
       "      <th>4</th>\n",
       "      <td>4</td>\n",
       "      <td>12544</td>\n",
       "      <td>2005년 5월 26일 테네시 주 내슈빌에 있는 택배 회사인 Rush Courier...</td>\n",
       "      <td>'로버트 F. 케네디'</td>\n",
       "      <td>'존 F. 케네디'</td>\n",
       "      <td>no_relation</td>\n",
       "    </tr>\n",
       "  </tbody>\n",
       "</table>\n",
       "</div>"
      ],
      "text/plain": [
       "   Unnamed: 0     id                                           sentence  \\\n",
       "0           0  14034  광주여자대학교 평생교육원(회장 이선재)은 어등관 1층 강의실 3104호에서 2019...   \n",
       "1           1  11248  자유한국당 곽상도 의원이 얻은 서울중앙지법 판결에 따르면 이씨는 공직자 윤리에 신고...   \n",
       "2           2   9577  보수당 수상 처칠, 앤서니 이든, 해롤드 맥밀런, 알렉 더글라스 홈은 1950년대와...   \n",
       "3           3  14890  민주평화당 정동영 대표(전북 전주병)는 30일 비무장지대(DMZ)에서 도널드 트럼프...   \n",
       "4           4  12544  2005년 5월 26일 테네시 주 내슈빌에 있는 택배 회사인 Rush Courier...   \n",
       "\n",
       "  subject_entity object_entity                      label  \n",
       "0      '광주여자대학교'         '이선재'  org:top_members/employees  \n",
       "1          '곽상도'       '자유한국당'            per:employee_of  \n",
       "2       '앤서니 이든'         '보수당'            per:employee_of  \n",
       "3        '민주평화당'         '정동영'  org:top_members/employees  \n",
       "4   '로버트 F. 케네디'    '존 F. 케네디'                no_relation  "
      ]
     },
     "execution_count": 3,
     "metadata": {},
     "output_type": "execute_result"
    }
   ],
   "source": [
    "df.head()"
   ]
  },
  {
   "cell_type": "code",
   "execution_count": 4,
   "id": "af5c2b6b-0315-441a-86f2-af17c2bd5bf1",
   "metadata": {},
   "outputs": [],
   "source": [
    "id_list = list(df['id'])\n",
    "sent_list = list(df['sentence'])\n",
    "sub_list = list(df['subject_entity'])\n",
    "ob_list = list(df['object_entity'])\n",
    "label_list = list(df['label'])"
   ]
  },
  {
   "cell_type": "code",
   "execution_count": 7,
   "id": "ab5e4756-da15-4279-9507-a5f7b32e37aa",
   "metadata": {},
   "outputs": [],
   "source": [
    "import pandas as pd\n",
    "from deep_translator import GoogleTranslator\n",
    "\n",
    "from tqdm import tqdm\n",
    "\n",
    "def google_translate(sent):\n",
    "    try:\n",
    "        ko_to_en = GoogleTranslator(source='auto', target='en')\n",
    "        # en_to_ko = GoogleTranslator(source='auto', target='ko')\n",
    "        en_sent = ko_to_en.translate(sent)\n",
    "        # ko_sent = en_to_ko.translate(en_sent)\n",
    "        return en_sent\n",
    "    except:\n",
    "        return sent"
   ]
  },
  {
   "cell_type": "code",
   "execution_count": 9,
   "id": "b44dea16-793a-4b8b-b875-71b04c5bec42",
   "metadata": {},
   "outputs": [],
   "source": [
    "def check_translate(word, sent):\n",
    "    if word not in sent:\n",
    "        new_word = google_translate(word)\n",
    "        if new_word not in sent:\n",
    "            return word\n",
    "        return new_word\n",
    "    else:\n",
    "        return word\n",
    "\n",
    "def modify_entity(sub, ob, sent):\n",
    "    sub = sub[1:-1]\n",
    "    ob = ob[1:-1]\n",
    "    new_sub = check_translate(sub, sent)\n",
    "    new_ob = check_translate(ob, sent)\n",
    "    return sub, ob"
   ]
  },
  {
   "cell_type": "code",
   "execution_count": null,
   "id": "d576fac2-68b2-41b4-b811-5e2f01337f23",
   "metadata": {},
   "outputs": [
    {
     "name": "stderr",
     "output_type": "stream",
     "text": [
      "  2%|▏         | 575/27599 [02:32<2:22:28,  3.16it/s]"
     ]
    }
   ],
   "source": [
    "for idx in tqdm(range(len(sent_list))):\n",
    "    mod_sub, mod_ob = modify_entity(sub_list[idx], ob_list[idx], sent_list[idx])\n",
    "    sub_list[idx] = mod_sub\n",
    "    ob_list[idx] = mod_ob"
   ]
  },
  {
   "cell_type": "code",
   "execution_count": 1,
   "id": "c8bf718c-6217-456e-a31c-6a0651be3157",
   "metadata": {},
   "outputs": [
    {
     "name": "stdout",
     "output_type": "stream",
     "text": [
      "'광주여대'\n"
     ]
    }
   ],
   "source": [
    "test = \"'광주여대'\"\n",
    "test = test[1:-1]\n",
    "test = \"'\"+test+\"'\"\n",
    "print(test)"
   ]
  },
  {
   "cell_type": "code",
   "execution_count": 3,
   "id": "498d6982-642f-4753-9f19-e6f19d453309",
   "metadata": {},
   "outputs": [],
   "source": [
    "import pandas as pd\n",
    "from load_data import *"
   ]
  },
  {
   "cell_type": "code",
   "execution_count": 4,
   "id": "b10cc342-1487-458f-a883-0c139585a8db",
   "metadata": {},
   "outputs": [],
   "source": [
    "new_df = pd.DataFrame()\n",
    "\n",
    "csv_list = ['train_trans0_5000.csv', 'train_trans5000_10000.csv', 'train_trans10000_15000.csv', 'train_trans15000_20000.csv', 'train_trans20000_25000.csv', 'train_trans25000_30000.csv', 'train_trans30000_32470.csv']\n",
    "\n",
    "for csv in csv_list:\n",
    "    cur_df = pd.read_csv('../dataset/train/translate/' + csv)\n",
    "    new_df = pd.concat([new_df, cur_df], axis=0)\n",
    "    \n",
    "whole = load_data('../dataset/train/train.csv')\n",
    "new_df = pd.concat([new_df, whole])"
   ]
  },
  {
   "cell_type": "code",
   "execution_count": 5,
   "id": "864ab53b-2004-4705-9065-1fbae015c267",
   "metadata": {},
   "outputs": [
    {
     "data": {
      "text/plain": [
       "32470"
      ]
     },
     "execution_count": 5,
     "metadata": {},
     "output_type": "execute_result"
    }
   ],
   "source": [
    "len(new_df)//2"
   ]
  },
  {
   "cell_type": "code",
   "execution_count": 6,
   "id": "dccada0d-c481-4a45-8225-c2853e0136fa",
   "metadata": {},
   "outputs": [],
   "source": [
    "new_df.to_csv('../dataset/train/final.csv', index=False)"
   ]
  },
  {
   "cell_type": "code",
   "execution_count": null,
   "id": "6b17479c-0ba2-4615-a642-ed20098be88a",
   "metadata": {},
   "outputs": [],
   "source": []
  }
 ],
 "metadata": {
  "kernelspec": {
   "display_name": "Python 3 (ipykernel)",
   "language": "python",
   "name": "python3"
  },
  "language_info": {
   "codemirror_mode": {
    "name": "ipython",
    "version": 3
   },
   "file_extension": ".py",
   "mimetype": "text/x-python",
   "name": "python",
   "nbconvert_exporter": "python",
   "pygments_lexer": "ipython3",
   "version": "3.8.5"
  }
 },
 "nbformat": 4,
 "nbformat_minor": 5
}
